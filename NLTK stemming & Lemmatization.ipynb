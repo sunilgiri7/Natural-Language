{
 "cells": [
  {
   "cell_type": "code",
   "execution_count": 1,
   "id": "bd520497",
   "metadata": {},
   "outputs": [],
   "source": [
    "import nltk\n",
    "import spacy\n",
    "from nltk.stem import PorterStemmer "
   ]
  },
  {
   "cell_type": "code",
   "execution_count": 2,
   "id": "b1f3b03e",
   "metadata": {},
   "outputs": [],
   "source": [
    "stemmer = PorterStemmer()\n",
    "words = ['eating', 'ate', 'dancing', 'watching', 'ability', 'meeting']"
   ]
  },
  {
   "cell_type": "code",
   "execution_count": 3,
   "id": "256be2ec",
   "metadata": {},
   "outputs": [
    {
     "name": "stdout",
     "output_type": "stream",
     "text": [
      "eating  |  eat\n",
      "ate  |  ate\n",
      "dancing  |  danc\n",
      "watching  |  watch\n",
      "ability  |  abil\n",
      "meeting  |  meet\n"
     ]
    }
   ],
   "source": [
    "# stemmer is little dumb because it stem all words no matter it have meaning or not\n",
    "for word in words:\n",
    "    print(word, ' | ', stemmer.stem(word))"
   ]
  },
  {
   "cell_type": "code",
   "execution_count": 24,
   "id": "84690287",
   "metadata": {},
   "outputs": [
    {
     "name": "stdout",
     "output_type": "stream",
     "text": [
      "eating  |  eat\n",
      "ate  |  ate\n",
      "dancing  |  dancing\n",
      "watching  |  watch\n",
      "ability  |  ability\n",
      "meeting  |  meeting\n",
      "better  |  well\n"
     ]
    }
   ],
   "source": [
    "# Now let's use lemmatizer of spacy\n",
    "nlp = spacy.load('en_core_web_sm')\n",
    "docs = nlp('eating ate dancing watching ability meeting better')\n",
    "for word in docs:\n",
    "    print(word, ' | ', word.lemma_)"
   ]
  },
  {
   "cell_type": "code",
   "execution_count": 25,
   "id": "7d149807",
   "metadata": {},
   "outputs": [
    {
     "data": {
      "text/plain": [
       "['tok2vec', 'tagger', 'parser', 'attribute_ruler', 'lemmatizer', 'ner']"
      ]
     },
     "execution_count": 25,
     "metadata": {},
     "output_type": "execute_result"
    }
   ],
   "source": [
    "# we can also able to modify our lemma with nlp pipeline names\n",
    "nlp.pipe_names"
   ]
  },
  {
   "cell_type": "code",
   "execution_count": 26,
   "id": "79ccd36e",
   "metadata": {},
   "outputs": [
    {
     "name": "stdout",
     "output_type": "stream",
     "text": [
      "bro  |  Brother\n",
      "you  |  you\n",
      "wanna  |  wanna\n",
      "go  |  go\n",
      ",  |  ,\n",
      "hey  |  hey\n",
      "brah  |  Brother\n",
      "what  |  what\n",
      "s  |  s\n",
      "going  |  go\n",
      "on  |  on\n"
     ]
    }
   ],
   "source": [
    "ar = nlp.get_pipe('attribute_ruler')\n",
    "ar.add([[{'TEXT':'bro'}], [{'TEXT':'brah'}]], {'Lemma':'Brother'})\n",
    "doc = nlp('bro you wanna go, hey brah whats going on')\n",
    "for word in doc:\n",
    "    print(word, ' | ', word.lemma_)"
   ]
  }
 ],
 "metadata": {
  "kernelspec": {
   "display_name": "Python 3 (ipykernel)",
   "language": "python",
   "name": "python3"
  },
  "language_info": {
   "codemirror_mode": {
    "name": "ipython",
    "version": 3
   },
   "file_extension": ".py",
   "mimetype": "text/x-python",
   "name": "python",
   "nbconvert_exporter": "python",
   "pygments_lexer": "ipython3",
   "version": "3.10.5"
  }
 },
 "nbformat": 4,
 "nbformat_minor": 5
}
