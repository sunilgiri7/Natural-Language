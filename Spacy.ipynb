{
 "cells": [
  {
   "cell_type": "markdown",
   "id": "c556aca3",
   "metadata": {},
   "source": [
    "## Spacy is a object oriented \n",
    "## NLTK is mainly a string processing library"
   ]
  },
  {
   "cell_type": "code",
   "execution_count": 1,
   "id": "07db22bd",
   "metadata": {},
   "outputs": [],
   "source": [
    "import spacy"
   ]
  },
  {
   "cell_type": "code",
   "execution_count": 2,
   "id": "40519a1c",
   "metadata": {},
   "outputs": [],
   "source": [
    "## Sentence tokenization\n",
    "nlp = spacy.load('en_core_web_sm')\n",
    "docs = nlp('$ two sunil giri. presenting spacy module to you all. hope you enjoy this lets deep dive in nlp')"
   ]
  },
  {
   "cell_type": "code",
   "execution_count": 3,
   "id": "654d930b",
   "metadata": {},
   "outputs": [
    {
     "name": "stdout",
     "output_type": "stream",
     "text": [
      "$ two sunil giri.\n",
      "presenting spacy module to you all.\n",
      "hope you enjoy this lets deep dive in nlp\n"
     ]
    }
   ],
   "source": [
    "for sentence in docs.sents:\n",
    "    print(sentence)"
   ]
  },
  {
   "cell_type": "code",
   "execution_count": 4,
   "id": "9ee60e8d",
   "metadata": {},
   "outputs": [
    {
     "data": {
      "text/plain": [
       "'two'"
      ]
     },
     "execution_count": 4,
     "metadata": {},
     "output_type": "execute_result"
    }
   ],
   "source": [
    "token1 = docs[1]\n",
    "token1.text"
   ]
  },
  {
   "cell_type": "code",
   "execution_count": 5,
   "id": "e3fade43",
   "metadata": {},
   "outputs": [
    {
     "data": {
      "text/plain": [
       "True"
      ]
     },
     "execution_count": 5,
     "metadata": {},
     "output_type": "execute_result"
    }
   ],
   "source": [
    "# Spacy is smart enough to figure out meaning of english words\n",
    "token1.like_num"
   ]
  },
  {
   "cell_type": "code",
   "execution_count": 6,
   "id": "34d7b806",
   "metadata": {},
   "outputs": [
    {
     "data": {
      "text/plain": [
       "'$'"
      ]
     },
     "execution_count": 6,
     "metadata": {},
     "output_type": "execute_result"
    }
   ],
   "source": [
    "token0 = docs[0]\n",
    "token0.text"
   ]
  },
  {
   "cell_type": "code",
   "execution_count": 7,
   "id": "f6ac598c",
   "metadata": {},
   "outputs": [
    {
     "data": {
      "text/plain": [
       "True"
      ]
     },
     "execution_count": 7,
     "metadata": {},
     "output_type": "execute_result"
    }
   ],
   "source": [
    "# Here for currency\n",
    "token0.is_currency"
   ]
  },
  {
   "cell_type": "code",
   "execution_count": 8,
   "id": "869deef2",
   "metadata": {},
   "outputs": [
    {
     "name": "stdout",
     "output_type": "stream",
     "text": [
      "$\n",
      "two\n",
      "sunil\n",
      "giri\n",
      ".\n",
      "presenting\n",
      "spacy\n",
      "module\n",
      "to\n",
      "you\n",
      "all\n",
      ".\n",
      "hope\n",
      "you\n",
      "enjoy\n",
      "this\n",
      "lets\n",
      "deep\n",
      "dive\n",
      "in\n",
      "nlp\n"
     ]
    }
   ],
   "source": [
    "## Word tokenization\n",
    "for sentence in docs.sents:\n",
    "    for word in sentence:\n",
    "        print(word)"
   ]
  },
  {
   "cell_type": "code",
   "execution_count": 9,
   "id": "a6b004ad",
   "metadata": {},
   "outputs": [
    {
     "name": "stdout",
     "output_type": "stream",
     "text": [
      "['$', 'two', 'sunil', 'giri', '.', 'presenting', 'spacy', 'module', 'to', 'you', 'all', '.', 'hope', 'you', 'enjoy', 'this', 'lets', 'deep', 'dive', 'in', 'nlp']\n"
     ]
    }
   ],
   "source": [
    "## Another way of word tokenize\n",
    "print([token.text for token in docs])"
   ]
  },
  {
   "cell_type": "code",
   "execution_count": 10,
   "id": "de1538a6",
   "metadata": {},
   "outputs": [],
   "source": [
    "text = '''sunil 21 seungiri841@gmail.com,\n",
    "          roshan 20 roshan11khadka@gmail.com,\n",
    "          roshni 19 roshni1@gmail.com'''"
   ]
  },
  {
   "cell_type": "code",
   "execution_count": 11,
   "id": "8cc3979f",
   "metadata": {},
   "outputs": [
    {
     "data": {
      "text/plain": [
       "[seungiri841@gmail.com, roshan11khadka@gmail.com, roshni1@gmail.com]"
      ]
     },
     "execution_count": 11,
     "metadata": {},
     "output_type": "execute_result"
    }
   ],
   "source": [
    "## Powerful feature of spacy\n",
    "doc = nlp(text)\n",
    "email = []\n",
    "for word in doc:\n",
    "    if word.like_email:\n",
    "        email.append(word)\n",
    "email"
   ]
  },
  {
   "cell_type": "code",
   "execution_count": 12,
   "id": "d0d19ab1",
   "metadata": {},
   "outputs": [],
   "source": [
    "## Now doing same thing with NLTK\n",
    "import nltk\n",
    "from nltk.tokenize import sent_tokenize"
   ]
  },
  {
   "cell_type": "code",
   "execution_count": 13,
   "id": "77282883",
   "metadata": {},
   "outputs": [
    {
     "data": {
      "text/plain": [
       "['sunil giri.',\n",
       " 'presenting spacy module to you all.',\n",
       " 'hope you enjoy this lets deep dive in nlp']"
      ]
     },
     "execution_count": 13,
     "metadata": {},
     "output_type": "execute_result"
    }
   ],
   "source": [
    "sent_tokenize('sunil giri. presenting spacy module to you all. hope you enjoy this lets deep dive in nlp')"
   ]
  },
  {
   "cell_type": "code",
   "execution_count": 14,
   "id": "03c3d1c2",
   "metadata": {},
   "outputs": [
    {
     "data": {
      "text/plain": [
       "['hello',\n",
       " '.',\n",
       " 'i',\n",
       " 'am',\n",
       " 'sunil',\n",
       " 'giri',\n",
       " 'presenting',\n",
       " 'spacy',\n",
       " 'module',\n",
       " 'to',\n",
       " 'you',\n",
       " 'all',\n",
       " '.',\n",
       " 'hope',\n",
       " 'you',\n",
       " 'enjoy',\n",
       " 'this',\n",
       " 'lets',\n",
       " 'deep',\n",
       " 'dive',\n",
       " 'in',\n",
       " 'nlp']"
      ]
     },
     "execution_count": 14,
     "metadata": {},
     "output_type": "execute_result"
    }
   ],
   "source": [
    "from nltk.tokenize import word_tokenize\n",
    "word_tokenize('hello. i am sunil giri presenting spacy module to you all. hope you enjoy this lets deep dive in nlp')"
   ]
  }
 ],
 "metadata": {
  "kernelspec": {
   "display_name": "Python 3 (ipykernel)",
   "language": "python",
   "name": "python3"
  },
  "language_info": {
   "codemirror_mode": {
    "name": "ipython",
    "version": 3
   },
   "file_extension": ".py",
   "mimetype": "text/x-python",
   "name": "python",
   "nbconvert_exporter": "python",
   "pygments_lexer": "ipython3",
   "version": "3.10.5"
  }
 },
 "nbformat": 4,
 "nbformat_minor": 5
}
