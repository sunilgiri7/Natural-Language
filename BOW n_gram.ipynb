{
 "cells": [
  {
   "cell_type": "code",
   "execution_count": 30,
   "id": "d57d4292",
   "metadata": {},
   "outputs": [
    {
     "data": {
      "text/plain": [
       "{'hey': 6,\n",
       " 'am': 0,\n",
       " 'here': 3,\n",
       " 'to': 12,\n",
       " 'learn': 9,\n",
       " 'n_grams': 11,\n",
       " 'hey am': 7,\n",
       " 'am here': 1,\n",
       " 'here to': 4,\n",
       " 'to learn': 13,\n",
       " 'learn n_grams': 10,\n",
       " 'hey am here': 8,\n",
       " 'am here to': 2,\n",
       " 'here to learn': 5,\n",
       " 'to learn n_grams': 14}"
      ]
     },
     "execution_count": 30,
     "metadata": {},
     "output_type": "execute_result"
    }
   ],
   "source": [
    "import spacy\n",
    "from sklearn.feature_extraction.text import CountVectorizer\n",
    "cv =  CountVectorizer(ngram_range=(1,3))\n",
    "cv.fit(['hey i am here to learn n_grams'])\n",
    "cv.vocabulary_"
   ]
  },
  {
   "cell_type": "code",
   "execution_count": 37,
   "id": "5a58a761",
   "metadata": {},
   "outputs": [],
   "source": [
    "corpus = [\n",
    "    'This sentence is often used as an example of a pangram,',\n",
    "    'which is a sentence that contains every letter of the alphabet at least once.',\n",
    "    'Its a short and simple sentence, but it contains all 26 letters of the English alphabet,',\n",
    "    'making it a useful tool for testing typewriters, keyboards, and fonts.'\n",
    "]"
   ]
  },
  {
   "cell_type": "code",
   "execution_count": 275,
   "id": "bf1d69c6",
   "metadata": {},
   "outputs": [
    {
     "data": {
      "text/plain": [
       "'thor eat pizza'"
      ]
     },
     "execution_count": 275,
     "metadata": {},
     "output_type": "execute_result"
    }
   ],
   "source": [
    "nlp = spacy.load('en_core_web_sm')\n",
    "def preprocess(text):\n",
    "    doc = nlp(text)\n",
    "    filtered_token = []\n",
    "    for token in doc:\n",
    "        if token.is_stop or token.is_punct:\n",
    "            continue\n",
    "        filtered_token.append(token.lemma_)\n",
    "    return \" \".join(filtered_token)\n",
    "preprocess('thor ate pizza')"
   ]
  },
  {
   "cell_type": "code",
   "execution_count": 39,
   "id": "2ea83b15",
   "metadata": {},
   "outputs": [
    {
     "data": {
      "text/plain": [
       "['sentence example pangram',\n",
       " 'sentence contain letter alphabet',\n",
       " 'short simple sentence contain 26 letter English alphabet',\n",
       " 'make useful tool testing typewriter keyboard font']"
      ]
     },
     "execution_count": 39,
     "metadata": {},
     "output_type": "execute_result"
    }
   ],
   "source": [
    "corpus_processed = [preprocess(token) for token in corpus]\n",
    "corpus_processed"
   ]
  },
  {
   "cell_type": "code",
   "execution_count": 40,
   "id": "719a26b6",
   "metadata": {},
   "outputs": [
    {
     "data": {
      "text/plain": [
       "{'sentence': 10,\n",
       " 'example': 4,\n",
       " 'pangram': 9,\n",
       " 'contain': 2,\n",
       " 'letter': 7,\n",
       " 'alphabet': 1,\n",
       " 'short': 11,\n",
       " 'simple': 12,\n",
       " '26': 0,\n",
       " 'english': 3,\n",
       " 'make': 8,\n",
       " 'useful': 16,\n",
       " 'tool': 14,\n",
       " 'testing': 13,\n",
       " 'typewriter': 15,\n",
       " 'keyboard': 6,\n",
       " 'font': 5}"
      ]
     },
     "execution_count": 40,
     "metadata": {},
     "output_type": "execute_result"
    }
   ],
   "source": [
    "v = CountVectorizer(ngram_range=(1,1))\n",
    "v.fit(corpus_processed)\n",
    "v.vocabulary_"
   ]
  },
  {
   "cell_type": "code",
   "execution_count": 41,
   "id": "379159bf",
   "metadata": {},
   "outputs": [
    {
     "data": {
      "text/plain": [
       "array([[0, 0, 0, 0, 1, 0, 0, 0, 0, 1, 1, 0, 0, 0, 0, 0, 0],\n",
       "       [0, 1, 0, 0, 0, 0, 0, 1, 0, 0, 1, 0, 0, 0, 0, 0, 0],\n",
       "       [1, 1, 0, 1, 0, 0, 0, 0, 0, 0, 1, 1, 1, 0, 0, 0, 0],\n",
       "       [0, 0, 0, 0, 0, 0, 0, 0, 0, 0, 0, 0, 0, 1, 1, 0, 1]], dtype=int64)"
      ]
     },
     "execution_count": 41,
     "metadata": {},
     "output_type": "execute_result"
    }
   ],
   "source": [
    "v.transform(corpus).toarray()"
   ]
  },
  {
   "cell_type": "markdown",
   "id": "04315602",
   "metadata": {},
   "source": [
    "## News Category Classification Problem\n",
    "### Okay now that we know basics of BAG of n grams vectorizer 😎 It is the time to work on a real problem. Here we want to do a news category classification. We will use bag of n-grams and traing a machine learning model that can categorize any news into one of the following categories,\n",
    "\n",
    "1. BUSINESS\n",
    "2. SPORTS\n",
    "3. CRIME\n",
    "4. SCIENCE"
   ]
  },
  {
   "cell_type": "code",
   "execution_count": 244,
   "id": "c785ddd2",
   "metadata": {},
   "outputs": [],
   "source": [
    "import json\n",
    "import pandas as pd\n",
    "\n",
    "with open('News_Category_Dataset_v3.json', 'r') as f:\n",
    "    data = [json.loads(line) for line in f]\n"
   ]
  },
  {
   "cell_type": "code",
   "execution_count": 245,
   "id": "7ba650eb",
   "metadata": {},
   "outputs": [
    {
     "data": {
      "text/html": [
       "<div>\n",
       "<style scoped>\n",
       "    .dataframe tbody tr th:only-of-type {\n",
       "        vertical-align: middle;\n",
       "    }\n",
       "\n",
       "    .dataframe tbody tr th {\n",
       "        vertical-align: top;\n",
       "    }\n",
       "\n",
       "    .dataframe thead th {\n",
       "        text-align: right;\n",
       "    }\n",
       "</style>\n",
       "<table border=\"1\" class=\"dataframe\">\n",
       "  <thead>\n",
       "    <tr style=\"text-align: right;\">\n",
       "      <th></th>\n",
       "      <th>link</th>\n",
       "      <th>headline</th>\n",
       "      <th>category</th>\n",
       "      <th>short_description</th>\n",
       "      <th>authors</th>\n",
       "      <th>date</th>\n",
       "    </tr>\n",
       "  </thead>\n",
       "  <tbody>\n",
       "    <tr>\n",
       "      <th>0</th>\n",
       "      <td>https://www.huffpost.com/entry/covid-boosters-...</td>\n",
       "      <td>Over 4 Million Americans Roll Up Sleeves For O...</td>\n",
       "      <td>U.S. NEWS</td>\n",
       "      <td>Health experts said it is too early to predict...</td>\n",
       "      <td>Carla K. Johnson, AP</td>\n",
       "      <td>2022-09-23</td>\n",
       "    </tr>\n",
       "    <tr>\n",
       "      <th>1</th>\n",
       "      <td>https://www.huffpost.com/entry/american-airlin...</td>\n",
       "      <td>American Airlines Flyer Charged, Banned For Li...</td>\n",
       "      <td>U.S. NEWS</td>\n",
       "      <td>He was subdued by passengers and crew when he ...</td>\n",
       "      <td>Mary Papenfuss</td>\n",
       "      <td>2022-09-23</td>\n",
       "    </tr>\n",
       "    <tr>\n",
       "      <th>2</th>\n",
       "      <td>https://www.huffpost.com/entry/funniest-tweets...</td>\n",
       "      <td>23 Of The Funniest Tweets About Cats And Dogs ...</td>\n",
       "      <td>COMEDY</td>\n",
       "      <td>\"Until you have a dog you don't understand wha...</td>\n",
       "      <td>Elyse Wanshel</td>\n",
       "      <td>2022-09-23</td>\n",
       "    </tr>\n",
       "    <tr>\n",
       "      <th>3</th>\n",
       "      <td>https://www.huffpost.com/entry/funniest-parent...</td>\n",
       "      <td>The Funniest Tweets From Parents This Week (Se...</td>\n",
       "      <td>PARENTING</td>\n",
       "      <td>\"Accidentally put grown-up toothpaste on my to...</td>\n",
       "      <td>Caroline Bologna</td>\n",
       "      <td>2022-09-23</td>\n",
       "    </tr>\n",
       "    <tr>\n",
       "      <th>4</th>\n",
       "      <td>https://www.huffpost.com/entry/amy-cooper-lose...</td>\n",
       "      <td>Woman Who Called Cops On Black Bird-Watcher Lo...</td>\n",
       "      <td>U.S. NEWS</td>\n",
       "      <td>Amy Cooper accused investment firm Franklin Te...</td>\n",
       "      <td>Nina Golgowski</td>\n",
       "      <td>2022-09-22</td>\n",
       "    </tr>\n",
       "  </tbody>\n",
       "</table>\n",
       "</div>"
      ],
      "text/plain": [
       "                                                link  \\\n",
       "0  https://www.huffpost.com/entry/covid-boosters-...   \n",
       "1  https://www.huffpost.com/entry/american-airlin...   \n",
       "2  https://www.huffpost.com/entry/funniest-tweets...   \n",
       "3  https://www.huffpost.com/entry/funniest-parent...   \n",
       "4  https://www.huffpost.com/entry/amy-cooper-lose...   \n",
       "\n",
       "                                            headline   category  \\\n",
       "0  Over 4 Million Americans Roll Up Sleeves For O...  U.S. NEWS   \n",
       "1  American Airlines Flyer Charged, Banned For Li...  U.S. NEWS   \n",
       "2  23 Of The Funniest Tweets About Cats And Dogs ...     COMEDY   \n",
       "3  The Funniest Tweets From Parents This Week (Se...  PARENTING   \n",
       "4  Woman Who Called Cops On Black Bird-Watcher Lo...  U.S. NEWS   \n",
       "\n",
       "                                   short_description               authors  \\\n",
       "0  Health experts said it is too early to predict...  Carla K. Johnson, AP   \n",
       "1  He was subdued by passengers and crew when he ...        Mary Papenfuss   \n",
       "2  \"Until you have a dog you don't understand wha...         Elyse Wanshel   \n",
       "3  \"Accidentally put grown-up toothpaste on my to...      Caroline Bologna   \n",
       "4  Amy Cooper accused investment firm Franklin Te...        Nina Golgowski   \n",
       "\n",
       "         date  \n",
       "0  2022-09-23  \n",
       "1  2022-09-23  \n",
       "2  2022-09-23  \n",
       "3  2022-09-23  \n",
       "4  2022-09-22  "
      ]
     },
     "execution_count": 245,
     "metadata": {},
     "output_type": "execute_result"
    }
   ],
   "source": [
    "df = pd.DataFrame(data)\n",
    "df.head()"
   ]
  },
  {
   "cell_type": "code",
   "execution_count": 246,
   "id": "ebdeaad0",
   "metadata": {},
   "outputs": [
    {
     "data": {
      "text/plain": [
       "(209527, 6)"
      ]
     },
     "execution_count": 246,
     "metadata": {},
     "output_type": "execute_result"
    }
   ],
   "source": [
    "df.shape"
   ]
  },
  {
   "cell_type": "code",
   "execution_count": 247,
   "id": "0872b247",
   "metadata": {},
   "outputs": [],
   "source": [
    "df = df.sample(200000)"
   ]
  },
  {
   "cell_type": "code",
   "execution_count": 248,
   "id": "c3c31eb3",
   "metadata": {},
   "outputs": [],
   "source": [
    "df = df.reset_index(drop=True)"
   ]
  },
  {
   "cell_type": "code",
   "execution_count": 249,
   "id": "bd9dccc5",
   "metadata": {},
   "outputs": [],
   "source": [
    "# df.drop(df[['link', 'headline','authors', 'date']], axis=1, inplace=True)"
   ]
  },
  {
   "cell_type": "code",
   "execution_count": 250,
   "id": "70cf0f58",
   "metadata": {},
   "outputs": [
    {
     "data": {
      "text/plain": [
       "(200000, 6)"
      ]
     },
     "execution_count": 250,
     "metadata": {},
     "output_type": "execute_result"
    }
   ],
   "source": [
    "df.shape"
   ]
  },
  {
   "cell_type": "code",
   "execution_count": 251,
   "id": "6bfd4cf6",
   "metadata": {},
   "outputs": [
    {
     "data": {
      "text/plain": [
       "POLITICS          33966\n",
       "WELLNESS          17129\n",
       "ENTERTAINMENT     16605\n",
       "TRAVEL             9419\n",
       "STYLE & BEAUTY     9371\n",
       "PARENTING          8403\n",
       "HEALTHY LIVING     6369\n",
       "QUEER VOICES       6083\n",
       "FOOD & DRINK       6039\n",
       "BUSINESS           5742\n",
       "COMEDY             5143\n",
       "SPORTS             4867\n",
       "BLACK VOICES       4389\n",
       "HOME & LIVING      4121\n",
       "PARENTS            3764\n",
       "THE WORLDPOST      3511\n",
       "WEDDINGS           3484\n",
       "CRIME              3437\n",
       "WOMEN              3402\n",
       "IMPACT             3315\n",
       "DIVORCE            3253\n",
       "WORLD NEWS         3162\n",
       "MEDIA              2809\n",
       "WEIRD NEWS         2623\n",
       "GREEN              2501\n",
       "RELIGION           2469\n",
       "WORLDPOST          2452\n",
       "STYLE              2151\n",
       "SCIENCE            2106\n",
       "TECH               2007\n",
       "TASTE              1994\n",
       "MONEY              1687\n",
       "ARTS               1430\n",
       "ENVIRONMENT        1373\n",
       "FIFTY              1333\n",
       "GOOD NEWS          1331\n",
       "U.S. NEWS          1301\n",
       "ARTS & CULTURE     1289\n",
       "COLLEGE            1091\n",
       "LATINO VOICES      1080\n",
       "CULTURE & ARTS     1021\n",
       "EDUCATION           978\n",
       "Name: category, dtype: int64"
      ]
     },
     "execution_count": 251,
     "metadata": {},
     "output_type": "execute_result"
    }
   ],
   "source": [
    "df['category'].value_counts()"
   ]
  },
  {
   "cell_type": "code",
   "execution_count": 252,
   "id": "b1084efe",
   "metadata": {},
   "outputs": [],
   "source": [
    "min_sample = 9371\n",
    "df_travel =  df[df.category=='TRAVEL'].sample(min_sample, random_state=100)\n",
    "df_style_and_beauty =  df[df.category=='STYLE & BEAUTY'].sample(min_sample, random_state=100)\n",
    "df_wellness =  df[df.category=='WELLNESS'].sample(min_sample, random_state=100)\n",
    "df_entertainment =  df[df.category=='ENTERTAINMENT'].sample(min_sample, random_state=100)\n",
    "df_politics =  df[df.category=='POLITICS'].sample(min_sample, random_state=100)"
   ]
  },
  {
   "cell_type": "code",
   "execution_count": 253,
   "id": "028fb3c9",
   "metadata": {},
   "outputs": [],
   "source": [
    "df_balanced = pd.concat([df_travel, df_style_and_beauty, df_wellness, df_entertainment, df_politics])"
   ]
  },
  {
   "cell_type": "code",
   "execution_count": 254,
   "id": "b33d88f9",
   "metadata": {},
   "outputs": [
    {
     "data": {
      "text/plain": [
       "TRAVEL            9371\n",
       "STYLE & BEAUTY    9371\n",
       "WELLNESS          9371\n",
       "ENTERTAINMENT     9371\n",
       "POLITICS          9371\n",
       "Name: category, dtype: int64"
      ]
     },
     "execution_count": 254,
     "metadata": {},
     "output_type": "execute_result"
    }
   ],
   "source": [
    "df_balanced.category.value_counts()"
   ]
  },
  {
   "cell_type": "code",
   "execution_count": 255,
   "id": "e348e6a1",
   "metadata": {},
   "outputs": [],
   "source": [
    "df_balanced.drop(columns=['link', 'headline', 'authors', 'date'], inplace=True)\n"
   ]
  },
  {
   "cell_type": "code",
   "execution_count": 256,
   "id": "c9489469",
   "metadata": {},
   "outputs": [],
   "source": [
    "df_balanced = df_balanced.reset_index(drop=True)"
   ]
  },
  {
   "cell_type": "code",
   "execution_count": 257,
   "id": "73987489",
   "metadata": {},
   "outputs": [],
   "source": [
    "df_balanced['category_num'] = df_balanced.category.map({'TRAVEL':0, 'STYLE & BEAUTY':1, 'WELLNESS':2, 'ENTERTAINMENT':3, 'POLITICS':4})"
   ]
  },
  {
   "cell_type": "code",
   "execution_count": 258,
   "id": "8b3fb150",
   "metadata": {},
   "outputs": [
    {
     "data": {
      "text/html": [
       "<div>\n",
       "<style scoped>\n",
       "    .dataframe tbody tr th:only-of-type {\n",
       "        vertical-align: middle;\n",
       "    }\n",
       "\n",
       "    .dataframe tbody tr th {\n",
       "        vertical-align: top;\n",
       "    }\n",
       "\n",
       "    .dataframe thead th {\n",
       "        text-align: right;\n",
       "    }\n",
       "</style>\n",
       "<table border=\"1\" class=\"dataframe\">\n",
       "  <thead>\n",
       "    <tr style=\"text-align: right;\">\n",
       "      <th></th>\n",
       "      <th>category</th>\n",
       "      <th>short_description</th>\n",
       "      <th>category_num</th>\n",
       "    </tr>\n",
       "  </thead>\n",
       "  <tbody>\n",
       "    <tr>\n",
       "      <th>46850</th>\n",
       "      <td>POLITICS</td>\n",
       "      <td></td>\n",
       "      <td>4</td>\n",
       "    </tr>\n",
       "    <tr>\n",
       "      <th>46851</th>\n",
       "      <td>POLITICS</td>\n",
       "      <td>Today, that oath I took over two decades ago, ...</td>\n",
       "      <td>4</td>\n",
       "    </tr>\n",
       "    <tr>\n",
       "      <th>46852</th>\n",
       "      <td>POLITICS</td>\n",
       "      <td>The president admits the combativeness of his ...</td>\n",
       "      <td>4</td>\n",
       "    </tr>\n",
       "    <tr>\n",
       "      <th>46853</th>\n",
       "      <td>POLITICS</td>\n",
       "      <td>The New Jersey congressman said abandoning the...</td>\n",
       "      <td>4</td>\n",
       "    </tr>\n",
       "    <tr>\n",
       "      <th>46854</th>\n",
       "      <td>POLITICS</td>\n",
       "      <td>\"A group of losers,\" according to Trump, appea...</td>\n",
       "      <td>4</td>\n",
       "    </tr>\n",
       "  </tbody>\n",
       "</table>\n",
       "</div>"
      ],
      "text/plain": [
       "       category                                  short_description  \\\n",
       "46850  POLITICS                                                      \n",
       "46851  POLITICS  Today, that oath I took over two decades ago, ...   \n",
       "46852  POLITICS  The president admits the combativeness of his ...   \n",
       "46853  POLITICS  The New Jersey congressman said abandoning the...   \n",
       "46854  POLITICS  \"A group of losers,\" according to Trump, appea...   \n",
       "\n",
       "       category_num  \n",
       "46850             4  \n",
       "46851             4  \n",
       "46852             4  \n",
       "46853             4  \n",
       "46854             4  "
      ]
     },
     "execution_count": 258,
     "metadata": {},
     "output_type": "execute_result"
    }
   ],
   "source": [
    "df_balanced.tail()"
   ]
  },
  {
   "cell_type": "code",
   "execution_count": 259,
   "id": "a238a3bb",
   "metadata": {},
   "outputs": [
    {
     "data": {
      "text/plain": [
       "(46855, 3)"
      ]
     },
     "execution_count": 259,
     "metadata": {},
     "output_type": "execute_result"
    }
   ],
   "source": [
    "df_balanced.shape"
   ]
  },
  {
   "cell_type": "code",
   "execution_count": 260,
   "id": "bd63d702",
   "metadata": {},
   "outputs": [],
   "source": [
    "from sklearn.model_selection import train_test_split\n",
    "X_train, X_test, y_train, y_test = train_test_split(df_balanced.short_description, df_balanced.category_num, test_size=0.2, random_state=100,\n",
    "                                                   stratify=df_balanced.category_num)"
   ]
  },
  {
   "cell_type": "code",
   "execution_count": 261,
   "id": "1dfbbc4a",
   "metadata": {},
   "outputs": [
    {
     "name": "stdout",
     "output_type": "stream",
     "text": [
      "(37484,)\n",
      "(9371,)\n"
     ]
    }
   ],
   "source": [
    "print(X_train.shape)\n",
    "print(X_test.shape)"
   ]
  },
  {
   "cell_type": "code",
   "execution_count": 262,
   "id": "dc7b1495",
   "metadata": {},
   "outputs": [],
   "source": [
    "from sklearn.naive_bayes import MultinomialNB\n",
    "from sklearn.pipeline import Pipeline\n",
    "from sklearn.metrics import classification_report"
   ]
  },
  {
   "cell_type": "code",
   "execution_count": 263,
   "id": "feb108c3",
   "metadata": {},
   "outputs": [],
   "source": [
    "clf = Pipeline([\n",
    "    ('vectorizer', CountVectorizer()),\n",
    "    ('mnb', MultinomialNB())\n",
    "])"
   ]
  },
  {
   "cell_type": "code",
   "execution_count": 264,
   "id": "6c2c3fd2",
   "metadata": {},
   "outputs": [],
   "source": [
    "clf.fit(X_train, y_train)\n",
    "y_pred = clf.predict(X_test)"
   ]
  },
  {
   "cell_type": "code",
   "execution_count": 265,
   "id": "58c20c38",
   "metadata": {},
   "outputs": [
    {
     "name": "stdout",
     "output_type": "stream",
     "text": [
      "              precision    recall  f1-score   support\n",
      "\n",
      "           0       0.78      0.75      0.76      1875\n",
      "           1       0.62      0.76      0.68      1874\n",
      "           2       0.66      0.88      0.75      1874\n",
      "           3       0.74      0.46      0.57      1874\n",
      "           4       0.82      0.69      0.75      1874\n",
      "\n",
      "    accuracy                           0.71      9371\n",
      "   macro avg       0.72      0.71      0.70      9371\n",
      "weighted avg       0.72      0.71      0.70      9371\n",
      "\n"
     ]
    }
   ],
   "source": [
    "print(classification_report(y_test, y_pred))"
   ]
  },
  {
   "cell_type": "code",
   "execution_count": 266,
   "id": "260324a4",
   "metadata": {},
   "outputs": [],
   "source": [
    "from sklearn.ensemble import RandomForestClassifier\n",
    "clr = Pipeline([\n",
    "    ('vectorizer', CountVectorizer()),\n",
    "    ('rfc', RandomForestClassifier())\n",
    "])\n",
    "clr.fit(X_train, y_train)\n",
    "y_pred = clr.predict(X_test)"
   ]
  },
  {
   "cell_type": "code",
   "execution_count": 267,
   "id": "1e883e82",
   "metadata": {},
   "outputs": [
    {
     "name": "stdout",
     "output_type": "stream",
     "text": [
      "              precision    recall  f1-score   support\n",
      "\n",
      "           0       0.72      0.60      0.65      1875\n",
      "           1       0.79      0.62      0.69      1874\n",
      "           2       0.71      0.76      0.74      1874\n",
      "           3       0.51      0.75      0.61      1874\n",
      "           4       0.69      0.59      0.64      1874\n",
      "\n",
      "    accuracy                           0.66      9371\n",
      "   macro avg       0.68      0.66      0.67      9371\n",
      "weighted avg       0.68      0.66      0.67      9371\n",
      "\n"
     ]
    }
   ],
   "source": [
    "print(classification_report(y_test, y_pred))"
   ]
  },
  {
   "cell_type": "code",
   "execution_count": 270,
   "id": "5ba38e77",
   "metadata": {},
   "outputs": [
    {
     "name": "stdout",
     "output_type": "stream",
     "text": [
      "              precision    recall  f1-score   support\n",
      "\n",
      "           0       0.71      0.76      0.74      1875\n",
      "           1       0.60      0.72      0.66      1874\n",
      "           2       0.57      0.93      0.71      1874\n",
      "           3       0.86      0.33      0.48      1874\n",
      "           4       0.86      0.61      0.72      1874\n",
      "\n",
      "    accuracy                           0.67      9371\n",
      "   macro avg       0.72      0.67      0.66      9371\n",
      "weighted avg       0.72      0.67      0.66      9371\n",
      "\n"
     ]
    }
   ],
   "source": [
    "clf = Pipeline([\n",
    "    ('vectorizer', CountVectorizer(ngram_range=(1,2))),\n",
    "    ('mnb', MultinomialNB())\n",
    "])\n",
    "clf.fit(X_train, y_train)\n",
    "y_pred = clf.predict(X_test)\n",
    "print(classification_report(y_test, y_pred))"
   ]
  },
  {
   "cell_type": "code",
   "execution_count": 272,
   "id": "36fe01b5",
   "metadata": {},
   "outputs": [
    {
     "data": {
      "text/plain": [
       "1179     Your baby might be too young for PB&J sandwich...\n",
       "22777    Plus, researchers found that \"the volunteers w...\n",
       "29932    I interviewed model/actress Lauren Hutton in l...\n",
       "19199    Nike's new Olympics ad campaign celebrates the...\n",
       "1353     6. Salt flats If lake or pond water evaporates...\n",
       "Name: short_description, dtype: object"
      ]
     },
     "execution_count": 272,
     "metadata": {},
     "output_type": "execute_result"
    }
   ],
   "source": [
    "X_test[:5]"
   ]
  },
  {
   "cell_type": "code",
   "execution_count": 273,
   "id": "4ce39827",
   "metadata": {},
   "outputs": [
    {
     "data": {
      "text/plain": [
       "1179     0\n",
       "22777    2\n",
       "29932    3\n",
       "19199    2\n",
       "1353     0\n",
       "Name: category_num, dtype: int64"
      ]
     },
     "execution_count": 273,
     "metadata": {},
     "output_type": "execute_result"
    }
   ],
   "source": [
    "y_test[:5]"
   ]
  },
  {
   "cell_type": "code",
   "execution_count": 274,
   "id": "cc1afcf3",
   "metadata": {},
   "outputs": [
    {
     "data": {
      "text/plain": [
       "array([0, 2, 1, 1, 0], dtype=int64)"
      ]
     },
     "execution_count": 274,
     "metadata": {},
     "output_type": "execute_result"
    }
   ],
   "source": [
    "y_pred[:5]"
   ]
  },
  {
   "cell_type": "code",
   "execution_count": 277,
   "id": "98eebf88",
   "metadata": {},
   "outputs": [],
   "source": [
    "#here we are doing preprocessing of text by the help of above function it basically stopwords from text\n",
    "df_balanced['preprocessed_text'] = df_balanced.short_description.apply(preprocess)"
   ]
  },
  {
   "cell_type": "code",
   "execution_count": 279,
   "id": "e91bcc8e",
   "metadata": {},
   "outputs": [
    {
     "data": {
      "text/html": [
       "<div>\n",
       "<style scoped>\n",
       "    .dataframe tbody tr th:only-of-type {\n",
       "        vertical-align: middle;\n",
       "    }\n",
       "\n",
       "    .dataframe tbody tr th {\n",
       "        vertical-align: top;\n",
       "    }\n",
       "\n",
       "    .dataframe thead th {\n",
       "        text-align: right;\n",
       "    }\n",
       "</style>\n",
       "<table border=\"1\" class=\"dataframe\">\n",
       "  <thead>\n",
       "    <tr style=\"text-align: right;\">\n",
       "      <th></th>\n",
       "      <th>category</th>\n",
       "      <th>short_description</th>\n",
       "      <th>category_num</th>\n",
       "      <th>preprocessed_text</th>\n",
       "    </tr>\n",
       "  </thead>\n",
       "  <tbody>\n",
       "    <tr>\n",
       "      <th>0</th>\n",
       "      <td>TRAVEL</td>\n",
       "      <td>*Cue wanderlust*</td>\n",
       "      <td>0</td>\n",
       "      <td>cue wanderlust</td>\n",
       "    </tr>\n",
       "    <tr>\n",
       "      <th>1</th>\n",
       "      <td>TRAVEL</td>\n",
       "      <td>And it's not just snow ghosts -- the towering ...</td>\n",
       "      <td>0</td>\n",
       "      <td>snow ghost tower pine tree drape snow encrust ...</td>\n",
       "    </tr>\n",
       "    <tr>\n",
       "      <th>2</th>\n",
       "      <td>TRAVEL</td>\n",
       "      <td>Best For WiFi Users Alaska Airlines This is a ...</td>\n",
       "      <td>0</td>\n",
       "      <td>good WiFi Users Alaska Airlines tough airline ...</td>\n",
       "    </tr>\n",
       "    <tr>\n",
       "      <th>3</th>\n",
       "      <td>TRAVEL</td>\n",
       "      <td>There are times, after riding for 10 hours on ...</td>\n",
       "      <td>0</td>\n",
       "      <td>time ride 10 hour bike find unusually deep tho...</td>\n",
       "    </tr>\n",
       "    <tr>\n",
       "      <th>4</th>\n",
       "      <td>TRAVEL</td>\n",
       "      <td>These electric and eclectic world cities are r...</td>\n",
       "      <td>0</td>\n",
       "      <td>electric eclectic world city ripe visit year</td>\n",
       "    </tr>\n",
       "  </tbody>\n",
       "</table>\n",
       "</div>"
      ],
      "text/plain": [
       "  category                                  short_description  category_num  \\\n",
       "0   TRAVEL                                   *Cue wanderlust*             0   \n",
       "1   TRAVEL  And it's not just snow ghosts -- the towering ...             0   \n",
       "2   TRAVEL  Best For WiFi Users Alaska Airlines This is a ...             0   \n",
       "3   TRAVEL  There are times, after riding for 10 hours on ...             0   \n",
       "4   TRAVEL  These electric and eclectic world cities are r...             0   \n",
       "\n",
       "                                   preprocessed_text  \n",
       "0                                     cue wanderlust  \n",
       "1  snow ghost tower pine tree drape snow encrust ...  \n",
       "2  good WiFi Users Alaska Airlines tough airline ...  \n",
       "3  time ride 10 hour bike find unusually deep tho...  \n",
       "4       electric eclectic world city ripe visit year  "
      ]
     },
     "execution_count": 279,
     "metadata": {},
     "output_type": "execute_result"
    }
   ],
   "source": [
    "df_balanced.head()"
   ]
  },
  {
   "cell_type": "code",
   "execution_count": 280,
   "id": "a08721e4",
   "metadata": {},
   "outputs": [],
   "source": [
    "# here we split data with preprocessed_text\n",
    "from sklearn.model_selection import train_test_split\n",
    "X_train, X_test, y_train, y_test = train_test_split(df_balanced.preprocessed_text, df_balanced.category_num, test_size=0.2, random_state=100,\n",
    "                                                   stratify=df_balanced.category_num)"
   ]
  },
  {
   "cell_type": "code",
   "execution_count": 281,
   "id": "739abb3f",
   "metadata": {},
   "outputs": [],
   "source": [
    "# finally predicting with preprocessed text \n",
    "clf = Pipeline([\n",
    "    ('vectorizer', CountVectorizer(ngram_range=(1,2))),\n",
    "    ('mnb', MultinomialNB())\n",
    "])\n",
    "clf.fit(X_train, y_train)\n",
    "y_pred = clf.predict(X_test)"
   ]
  },
  {
   "cell_type": "code",
   "execution_count": 282,
   "id": "aca0796d",
   "metadata": {},
   "outputs": [
    {
     "name": "stdout",
     "output_type": "stream",
     "text": [
      "              precision    recall  f1-score   support\n",
      "\n",
      "           0       0.75      0.80      0.77      1875\n",
      "           1       0.61      0.79      0.69      1874\n",
      "           2       0.65      0.90      0.75      1874\n",
      "           3       0.86      0.37      0.52      1874\n",
      "           4       0.84      0.68      0.75      1874\n",
      "\n",
      "    accuracy                           0.71      9371\n",
      "   macro avg       0.74      0.71      0.70      9371\n",
      "weighted avg       0.74      0.71      0.70      9371\n",
      "\n"
     ]
    }
   ],
   "source": [
    "# with preprocessed_text it increases precision little more\n",
    "print(classification_report(y_test, y_pred))"
   ]
  },
  {
   "cell_type": "code",
   "execution_count": null,
   "id": "9e9d8602",
   "metadata": {},
   "outputs": [],
   "source": []
  }
 ],
 "metadata": {
  "kernelspec": {
   "display_name": "Python 3 (ipykernel)",
   "language": "python",
   "name": "python3"
  },
  "language_info": {
   "codemirror_mode": {
    "name": "ipython",
    "version": 3
   },
   "file_extension": ".py",
   "mimetype": "text/x-python",
   "name": "python",
   "nbconvert_exporter": "python",
   "pygments_lexer": "ipython3",
   "version": "3.10.5"
  }
 },
 "nbformat": 4,
 "nbformat_minor": 5
}
