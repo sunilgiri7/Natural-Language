{
 "cells": [
  {
   "cell_type": "code",
   "execution_count": 1,
   "id": "05b83aac",
   "metadata": {},
   "outputs": [
    {
     "name": "stderr",
     "output_type": "stream",
     "text": [
      "C:\\python37\\lib\\site-packages\\spacy\\util.py:877: UserWarning: [W095] Model 'en_core_web_lg' (3.5.0) was trained with spaCy v3.5 and may not be 100% compatible with the current version (3.4.3). If you see errors or degraded performance, download a newer compatible model or retrain your custom model with the current spaCy version. For more details and available updates, run: python -m spacy validate\n",
      "  warnings.warn(warn_msg)\n"
     ]
    }
   ],
   "source": [
    "import spacy\n",
    "nlp = spacy.load(\"C:/Python311/Lib/site-packages/en_core_web_lg/en_core_web_lg-3.5.0\")"
   ]
  },
  {
   "cell_type": "code",
   "execution_count": 2,
   "id": "db7efe30",
   "metadata": {},
   "outputs": [
    {
     "name": "stdout",
     "output_type": "stream",
     "text": [
      "dog  |  True  |  False\n",
      "cat  |  True  |  False\n",
      "banana  |  True  |  False\n",
      "sunilG  |  False  |  True\n"
     ]
    }
   ],
   "source": [
    "doc = nlp('dog cat banana sunilG')\n",
    "for token in doc:\n",
    "    print(token.text, ' | ', token.has_vector, ' | ', token.is_oov)"
   ]
  },
  {
   "cell_type": "code",
   "execution_count": 3,
   "id": "24969190",
   "metadata": {},
   "outputs": [
    {
     "data": {
      "text/plain": [
       "(300,)"
      ]
     },
     "execution_count": 3,
     "metadata": {},
     "output_type": "execute_result"
    }
   ],
   "source": [
    "base_token = nlp('bread')\n",
    "base_token.vector.shape"
   ]
  },
  {
   "cell_type": "code",
   "execution_count": 4,
   "id": "20ac0397",
   "metadata": {},
   "outputs": [
    {
     "name": "stdout",
     "output_type": "stream",
     "text": [
      "bread <-> bread <-> 1.0\n",
      "wheat <-> bread <-> 0.6150360888607199\n",
      "tiger <-> bread <-> 0.04764611675903374\n",
      "cream <-> bread <-> 0.5287214200888183\n",
      "burger <-> bread <-> 0.47520687769584247\n",
      "car <-> bread <-> 0.06451533308853552\n"
     ]
    }
   ],
   "source": [
    "doc = nlp('bread wheat tiger cream burger car')\n",
    "\n",
    "for token in doc:\n",
    "    print(f\"{token.text} <-> {base_token.text} <-> {token.similarity(base_token)}\")"
   ]
  },
  {
   "cell_type": "code",
   "execution_count": 5,
   "id": "8f4961f8",
   "metadata": {},
   "outputs": [],
   "source": [
    "def preprocess(base_word, doc_to_compare):\n",
    "    base_token = nlp(base_word)\n",
    "    doc = nlp(doc_to_compare)\n",
    "    for token in doc:\n",
    "        print(f\"{token.text} <-> {base_token.text} <-> {token.similarity(base_token)}\")"
   ]
  },
  {
   "cell_type": "code",
   "execution_count": 6,
   "id": "94adb626",
   "metadata": {},
   "outputs": [
    {
     "name": "stdout",
     "output_type": "stream",
     "text": [
      "wheat <-> bread <-> 0.6150360888607199\n",
      "tiger <-> bread <-> 0.04764611675903374\n",
      "cream <-> bread <-> 0.5287214200888183\n",
      "burger <-> bread <-> 0.47520687769584247\n",
      "car <-> bread <-> 0.06451533308853552\n"
     ]
    }
   ],
   "source": [
    "preprocess('bread', 'wheat tiger cream burger car')"
   ]
  },
  {
   "cell_type": "code",
   "execution_count": null,
   "id": "399530a8",
   "metadata": {},
   "outputs": [],
   "source": []
  }
 ],
 "metadata": {
  "kernelspec": {
   "display_name": "Python 3 (ipykernel)",
   "language": "python",
   "name": "python3"
  },
  "language_info": {
   "codemirror_mode": {
    "name": "ipython",
    "version": 3
   },
   "file_extension": ".py",
   "mimetype": "text/x-python",
   "name": "python",
   "nbconvert_exporter": "python",
   "pygments_lexer": "ipython3",
   "version": "3.10.5"
  }
 },
 "nbformat": 4,
 "nbformat_minor": 5
}
