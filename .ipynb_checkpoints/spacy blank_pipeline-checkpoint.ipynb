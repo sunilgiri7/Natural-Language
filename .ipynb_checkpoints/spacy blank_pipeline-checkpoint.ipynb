{
 "cells": [
  {
   "cell_type": "code",
   "execution_count": 1,
   "id": "b2482bf1",
   "metadata": {},
   "outputs": [],
   "source": [
    "import spacy"
   ]
  },
  {
   "cell_type": "code",
   "execution_count": 5,
   "id": "64470bb9",
   "metadata": {},
   "outputs": [],
   "source": [
    "nlp = spacy.blank('en')\n",
    "docs = nlp('$ two sunil giri. presenting spacy module to you all. hope you enjoy this')"
   ]
  },
  {
   "cell_type": "code",
   "execution_count": 6,
   "id": "ade8d787",
   "metadata": {},
   "outputs": [
    {
     "name": "stdout",
     "output_type": "stream",
     "text": [
      "$\n",
      "two\n",
      "sunil\n",
      "giri\n",
      ".\n",
      "presenting\n",
      "spacy\n",
      "module\n",
      "to\n",
      "you\n",
      "all\n",
      ".\n",
      "hope\n",
      "you\n",
      "enjoy\n",
      "this\n"
     ]
    }
   ],
   "source": [
    "for token in docs:\n",
    "    print(token)"
   ]
  },
  {
   "cell_type": "code",
   "execution_count": 7,
   "id": "29dd3eef",
   "metadata": {},
   "outputs": [
    {
     "data": {
      "text/plain": [
       "[]"
      ]
     },
     "execution_count": 7,
     "metadata": {},
     "output_type": "execute_result"
    }
   ],
   "source": [
    "# blank pipeline\n",
    "nlp.pipe_names"
   ]
  },
  {
   "cell_type": "code",
   "execution_count": 9,
   "id": "1657547c",
   "metadata": {},
   "outputs": [
    {
     "data": {
      "text/plain": [
       "['tok2vec', 'tagger', 'parser', 'attribute_ruler', 'lemmatizer', 'ner']"
      ]
     },
     "execution_count": 9,
     "metadata": {},
     "output_type": "execute_result"
    }
   ],
   "source": [
    "# we have to load language to use pipline like\n",
    "nl_p = spacy.load('en_core_web_sm')\n",
    "nl_p.pipe_names"
   ]
  },
  {
   "cell_type": "code",
   "execution_count": 12,
   "id": "e7594dcb",
   "metadata": {},
   "outputs": [
    {
     "name": "stdout",
     "output_type": "stream",
     "text": [
      "$  |  SYM  |  $\n",
      "two  |  NUM  |  two\n",
      "sunil  |  NOUN  |  sunil\n",
      "giri  |  NOUN  |  giri\n",
      ".  |  PUNCT  |  .\n",
      "presenting  |  VERB  |  present\n",
      "spacy  |  NOUN  |  spacy\n",
      "module  |  NOUN  |  module\n",
      "to  |  ADP  |  to\n",
      "you  |  PRON  |  you\n",
      "all  |  PRON  |  all\n",
      ".  |  PUNCT  |  .\n",
      "hope  |  VERB  |  hope\n",
      "you  |  PRON  |  you\n",
      "enjoy  |  VERB  |  enjoy\n",
      "this  |  PRON  |  this\n"
     ]
    }
   ],
   "source": [
    "doc = nl_p('$ two sunil giri. presenting spacy module to you all. hope you enjoy this')\n",
    "for token in doc:\n",
    "    print(token, ' | ', token.pos_,' | ', token.lemma_)"
   ]
  },
  {
   "cell_type": "code",
   "execution_count": 21,
   "id": "0f1b0b38",
   "metadata": {},
   "outputs": [
    {
     "name": "stdout",
     "output_type": "stream",
     "text": [
      "Tesla Inc  |  ORG\n",
      "$45 billion  |  MONEY\n"
     ]
    }
   ],
   "source": [
    "docs = nl_p('Tesla Inc is going to acquire twitter for $45 billion')\n",
    "for ent in docs.ents:\n",
    "    print(ent.text, ' | ', ent.label_)"
   ]
  },
  {
   "cell_type": "code",
   "execution_count": 25,
   "id": "031f6e56",
   "metadata": {},
   "outputs": [
    {
     "data": {
      "text/html": [
       "<span class=\"tex2jax_ignore\"><div class=\"entities\" style=\"line-height: 2.5; direction: ltr\">\n",
       "<mark class=\"entity\" style=\"background: #7aecec; padding: 0.45em 0.6em; margin: 0 0.25em; line-height: 1; border-radius: 0.35em;\">\n",
       "    Tesla Inc\n",
       "    <span style=\"font-size: 0.8em; font-weight: bold; line-height: 1; border-radius: 0.35em; vertical-align: middle; margin-left: 0.5rem\">ORG</span>\n",
       "</mark>\n",
       " is going to acquire twitter for \n",
       "<mark class=\"entity\" style=\"background: #e4e7d2; padding: 0.45em 0.6em; margin: 0 0.25em; line-height: 1; border-radius: 0.35em;\">\n",
       "    $45 billion\n",
       "    <span style=\"font-size: 0.8em; font-weight: bold; line-height: 1; border-radius: 0.35em; vertical-align: middle; margin-left: 0.5rem\">MONEY</span>\n",
       "</mark>\n",
       "</div></span>"
      ],
      "text/plain": [
       "<IPython.core.display.HTML object>"
      ]
     },
     "metadata": {},
     "output_type": "display_data"
    }
   ],
   "source": [
    "# To print in attractive output of same \n",
    "from spacy import displacy\n",
    "displacy.render(docs, style='ent')"
   ]
  },
  {
   "cell_type": "code",
   "execution_count": null,
   "id": "f1272988",
   "metadata": {},
   "outputs": [],
   "source": []
  }
 ],
 "metadata": {
  "kernelspec": {
   "display_name": "Python 3 (ipykernel)",
   "language": "python",
   "name": "python3"
  },
  "language_info": {
   "codemirror_mode": {
    "name": "ipython",
    "version": 3
   },
   "file_extension": ".py",
   "mimetype": "text/x-python",
   "name": "python",
   "nbconvert_exporter": "python",
   "pygments_lexer": "ipython3",
   "version": "3.10.5"
  }
 },
 "nbformat": 4,
 "nbformat_minor": 5
}
