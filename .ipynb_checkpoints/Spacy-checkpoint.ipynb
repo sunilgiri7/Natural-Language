{
 "cells": [
  {
   "cell_type": "markdown",
   "id": "40eff406",
   "metadata": {},
   "source": [
    "## Spacy is a object oriented \n",
    "## NLTK is mainly a string processing library"
   ]
  },
  {
   "cell_type": "code",
   "execution_count": 1,
   "id": "571dcbe8",
   "metadata": {},
   "outputs": [],
   "source": [
    "import spacy"
   ]
  },
  {
   "cell_type": "code",
   "execution_count": 28,
   "id": "aab6b56c",
   "metadata": {},
   "outputs": [],
   "source": [
    "## Sentence tokenization\n",
    "nlp = spacy.load('en_core_web_sm')\n",
    "docs = nlp('$ two sunil giri. presenting spacy module to you all. hope you enjoy this lets deep dive in nlp')"
   ]
  },
  {
   "cell_type": "code",
   "execution_count": 27,
   "id": "37384a4a",
   "metadata": {},
   "outputs": [
    {
     "name": "stdout",
     "output_type": "stream",
     "text": [
      "sunil giri.\n",
      "presenting spacy module to you all.\n",
      "hope you enjoy this lets deep dive in nlp\n"
     ]
    }
   ],
   "source": [
    "for sentence in docs.sents:\n",
    "    print(sentence)"
   ]
  },
  {
   "cell_type": "code",
   "execution_count": 33,
   "id": "bff918ac",
   "metadata": {},
   "outputs": [
    {
     "data": {
      "text/plain": [
       "'two'"
      ]
     },
     "execution_count": 33,
     "metadata": {},
     "output_type": "execute_result"
    }
   ],
   "source": [
    "token1 = docs[1]\n",
    "token1.text"
   ]
  },
  {
   "cell_type": "code",
   "execution_count": 36,
   "id": "7066edde",
   "metadata": {},
   "outputs": [
    {
     "data": {
      "text/plain": [
       "True"
      ]
     },
     "execution_count": 36,
     "metadata": {},
     "output_type": "execute_result"
    }
   ],
   "source": [
    "# Spacy is smart enough to figure out meaning of english words\n",
    "token1.like_num"
   ]
  },
  {
   "cell_type": "code",
   "execution_count": 31,
   "id": "1c3d5b9f",
   "metadata": {},
   "outputs": [
    {
     "data": {
      "text/plain": [
       "'$'"
      ]
     },
     "execution_count": 31,
     "metadata": {},
     "output_type": "execute_result"
    }
   ],
   "source": [
    "token0 = docs[0]\n",
    "token0.text"
   ]
  },
  {
   "cell_type": "code",
   "execution_count": 32,
   "id": "1fdc90e2",
   "metadata": {},
   "outputs": [
    {
     "data": {
      "text/plain": [
       "True"
      ]
     },
     "execution_count": 32,
     "metadata": {},
     "output_type": "execute_result"
    }
   ],
   "source": [
    "# Here for currency\n",
    "token0.is_currency"
   ]
  },
  {
   "cell_type": "code",
   "execution_count": 17,
   "id": "845f7e9a",
   "metadata": {},
   "outputs": [
    {
     "name": "stdout",
     "output_type": "stream",
     "text": [
      "sunil\n",
      "giri\n",
      ".\n",
      "presenting\n",
      "spacy\n",
      "module\n",
      "to\n",
      "you\n",
      "all\n",
      ".\n",
      "hope\n",
      "you\n",
      "enjoy\n",
      "this\n",
      "lets\n",
      "deep\n",
      "dive\n",
      "in\n",
      "nlp\n"
     ]
    }
   ],
   "source": [
    "## Word tokenization\n",
    "for sentence in docs.sents:\n",
    "    for word in sentence:\n",
    "        print(word)"
   ]
  },
  {
   "cell_type": "code",
   "execution_count": 18,
   "id": "a0e359c4",
   "metadata": {},
   "outputs": [
    {
     "name": "stdout",
     "output_type": "stream",
     "text": [
      "['sunil', 'giri', '.', 'presenting', 'spacy', 'module', 'to', 'you', 'all', '.', 'hope', 'you', 'enjoy', 'this', 'lets', 'deep', 'dive', 'in', 'nlp']\n"
     ]
    }
   ],
   "source": [
    "## Another way of word tokenize\n",
    "print([token.text for token in docs])"
   ]
  },
  {
   "cell_type": "code",
   "execution_count": 41,
   "id": "bfb676e2",
   "metadata": {},
   "outputs": [],
   "source": [
    "text = '''sunil 21 seungiri841@gmail.com,\n",
    "          roshan 20 roshan11khadka@gmail.com,\n",
    "          roshni 19 roshni1@gmail.com'''"
   ]
  },
  {
   "cell_type": "code",
   "execution_count": 43,
   "id": "7362fc58",
   "metadata": {},
   "outputs": [
    {
     "data": {
      "text/plain": [
       "[seungiri841@gmail.com, roshan11khadka@gmail.com, roshni1@gmail.com]"
      ]
     },
     "execution_count": 43,
     "metadata": {},
     "output_type": "execute_result"
    }
   ],
   "source": [
    "## Powerful feature of spacy\n",
    "doc = nlp(text)\n",
    "email = []\n",
    "for word in doc:\n",
    "    if word.like_email:\n",
    "        email.append(word)\n",
    "email"
   ]
  },
  {
   "cell_type": "code",
   "execution_count": 19,
   "id": "9c00d547",
   "metadata": {},
   "outputs": [],
   "source": [
    "## Now doing same thing with NLTK\n",
    "import nltk\n",
    "from nltk.tokenize import sent_tokenize"
   ]
  },
  {
   "cell_type": "code",
   "execution_count": 20,
   "id": "d0a1744e",
   "metadata": {},
   "outputs": [
    {
     "data": {
      "text/plain": [
       "['sunil giri.',\n",
       " 'presenting spacy module to you all.',\n",
       " 'hope you enjoy this lets deep dive in nlp']"
      ]
     },
     "execution_count": 20,
     "metadata": {},
     "output_type": "execute_result"
    }
   ],
   "source": [
    "sent_tokenize('sunil giri. presenting spacy module to you all. hope you enjoy this lets deep dive in nlp')"
   ]
  },
  {
   "cell_type": "code",
   "execution_count": 25,
   "id": "36508220",
   "metadata": {},
   "outputs": [
    {
     "data": {
      "text/plain": [
       "['hello',\n",
       " '.',\n",
       " 'i',\n",
       " 'am',\n",
       " 'sunil',\n",
       " 'giri',\n",
       " 'presenting',\n",
       " 'spacy',\n",
       " 'module',\n",
       " 'to',\n",
       " 'you',\n",
       " 'all',\n",
       " '.',\n",
       " 'hope',\n",
       " 'you',\n",
       " 'enjoy',\n",
       " 'this',\n",
       " 'lets',\n",
       " 'deep',\n",
       " 'dive',\n",
       " 'in',\n",
       " 'nlp']"
      ]
     },
     "execution_count": 25,
     "metadata": {},
     "output_type": "execute_result"
    }
   ],
   "source": [
    "from nltk.tokenize import word_tokenize\n",
    "word_tokenize('hello. i am sunil giri presenting spacy module to you all. hope you enjoy this lets deep dive in nlp')"
   ]
  }
 ],
 "metadata": {
  "kernelspec": {
   "display_name": "Python 3 (ipykernel)",
   "language": "python",
   "name": "python3"
  },
  "language_info": {
   "codemirror_mode": {
    "name": "ipython",
    "version": 3
   },
   "file_extension": ".py",
   "mimetype": "text/x-python",
   "name": "python",
   "nbconvert_exporter": "python",
   "pygments_lexer": "ipython3",
   "version": "3.10.5"
  }
 },
 "nbformat": 4,
 "nbformat_minor": 5
}
