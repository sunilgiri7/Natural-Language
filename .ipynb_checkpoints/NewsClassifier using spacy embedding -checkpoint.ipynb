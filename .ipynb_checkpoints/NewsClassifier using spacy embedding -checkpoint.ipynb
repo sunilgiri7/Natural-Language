{
 "cells": [
  {
   "cell_type": "code",
   "execution_count": 1,
   "id": "ec4c8323",
   "metadata": {},
   "outputs": [
    {
     "data": {
      "text/html": [
       "<div>\n",
       "<style scoped>\n",
       "    .dataframe tbody tr th:only-of-type {\n",
       "        vertical-align: middle;\n",
       "    }\n",
       "\n",
       "    .dataframe tbody tr th {\n",
       "        vertical-align: top;\n",
       "    }\n",
       "\n",
       "    .dataframe thead th {\n",
       "        text-align: right;\n",
       "    }\n",
       "</style>\n",
       "<table border=\"1\" class=\"dataframe\">\n",
       "  <thead>\n",
       "    <tr style=\"text-align: right;\">\n",
       "      <th></th>\n",
       "      <th>Unnamed: 0</th>\n",
       "      <th>title</th>\n",
       "      <th>text</th>\n",
       "      <th>label</th>\n",
       "    </tr>\n",
       "  </thead>\n",
       "  <tbody>\n",
       "    <tr>\n",
       "      <th>0</th>\n",
       "      <td>0</td>\n",
       "      <td>LAW ENFORCEMENT ON HIGH ALERT Following Threat...</td>\n",
       "      <td>No comment is expected from Barack Obama Membe...</td>\n",
       "      <td>1</td>\n",
       "    </tr>\n",
       "    <tr>\n",
       "      <th>1</th>\n",
       "      <td>1</td>\n",
       "      <td>NaN</td>\n",
       "      <td>Did they post their votes for Hillary already?</td>\n",
       "      <td>1</td>\n",
       "    </tr>\n",
       "    <tr>\n",
       "      <th>2</th>\n",
       "      <td>2</td>\n",
       "      <td>UNBELIEVABLE! OBAMA’S ATTORNEY GENERAL SAYS MO...</td>\n",
       "      <td>Now, most of the demonstrators gathered last ...</td>\n",
       "      <td>1</td>\n",
       "    </tr>\n",
       "    <tr>\n",
       "      <th>3</th>\n",
       "      <td>3</td>\n",
       "      <td>Bobby Jindal, raised Hindu, uses story of Chri...</td>\n",
       "      <td>A dozen politically active pastors came here f...</td>\n",
       "      <td>0</td>\n",
       "    </tr>\n",
       "    <tr>\n",
       "      <th>4</th>\n",
       "      <td>4</td>\n",
       "      <td>SATAN 2: Russia unvelis an image of its terrif...</td>\n",
       "      <td>The RS-28 Sarmat missile, dubbed Satan 2, will...</td>\n",
       "      <td>1</td>\n",
       "    </tr>\n",
       "    <tr>\n",
       "      <th>5</th>\n",
       "      <td>5</td>\n",
       "      <td>About Time! Christian Group Sues Amazon and SP...</td>\n",
       "      <td>All we can say on this one is it s about time ...</td>\n",
       "      <td>1</td>\n",
       "    </tr>\n",
       "    <tr>\n",
       "      <th>6</th>\n",
       "      <td>6</td>\n",
       "      <td>DR BEN CARSON TARGETED BY THE IRS: “I never ha...</td>\n",
       "      <td>DR. BEN CARSON TELLS THE STORY OF WHAT HAPPENE...</td>\n",
       "      <td>1</td>\n",
       "    </tr>\n",
       "    <tr>\n",
       "      <th>7</th>\n",
       "      <td>7</td>\n",
       "      <td>HOUSE INTEL CHAIR On Trump-Russia Fake Story: ...</td>\n",
       "      <td></td>\n",
       "      <td>1</td>\n",
       "    </tr>\n",
       "    <tr>\n",
       "      <th>8</th>\n",
       "      <td>8</td>\n",
       "      <td>Sports Bar Owner Bans NFL Games…Will Show Only...</td>\n",
       "      <td>The owner of the Ringling Bar, located south o...</td>\n",
       "      <td>1</td>\n",
       "    </tr>\n",
       "    <tr>\n",
       "      <th>9</th>\n",
       "      <td>9</td>\n",
       "      <td>Latest Pipeline Leak Underscores Dangers Of Da...</td>\n",
       "      <td>FILE – In this Sept. 15, 2005 file photo, the ...</td>\n",
       "      <td>1</td>\n",
       "    </tr>\n",
       "  </tbody>\n",
       "</table>\n",
       "</div>"
      ],
      "text/plain": [
       "   Unnamed: 0                                              title  \\\n",
       "0           0  LAW ENFORCEMENT ON HIGH ALERT Following Threat...   \n",
       "1           1                                                NaN   \n",
       "2           2  UNBELIEVABLE! OBAMA’S ATTORNEY GENERAL SAYS MO...   \n",
       "3           3  Bobby Jindal, raised Hindu, uses story of Chri...   \n",
       "4           4  SATAN 2: Russia unvelis an image of its terrif...   \n",
       "5           5  About Time! Christian Group Sues Amazon and SP...   \n",
       "6           6  DR BEN CARSON TARGETED BY THE IRS: “I never ha...   \n",
       "7           7  HOUSE INTEL CHAIR On Trump-Russia Fake Story: ...   \n",
       "8           8  Sports Bar Owner Bans NFL Games…Will Show Only...   \n",
       "9           9  Latest Pipeline Leak Underscores Dangers Of Da...   \n",
       "\n",
       "                                                text  label  \n",
       "0  No comment is expected from Barack Obama Membe...      1  \n",
       "1     Did they post their votes for Hillary already?      1  \n",
       "2   Now, most of the demonstrators gathered last ...      1  \n",
       "3  A dozen politically active pastors came here f...      0  \n",
       "4  The RS-28 Sarmat missile, dubbed Satan 2, will...      1  \n",
       "5  All we can say on this one is it s about time ...      1  \n",
       "6  DR. BEN CARSON TELLS THE STORY OF WHAT HAPPENE...      1  \n",
       "7                                                         1  \n",
       "8  The owner of the Ringling Bar, located south o...      1  \n",
       "9  FILE – In this Sept. 15, 2005 file photo, the ...      1  "
      ]
     },
     "execution_count": 1,
     "metadata": {},
     "output_type": "execute_result"
    }
   ],
   "source": [
    "import pandas as pd\n",
    "import numpy as np\n",
    "df = pd.read_csv('RealOrFakeNews.csv')\n",
    "df.head(10)"
   ]
  },
  {
   "cell_type": "code",
   "execution_count": 2,
   "id": "97683c81",
   "metadata": {},
   "outputs": [
    {
     "data": {
      "text/plain": [
       "(72134, 4)"
      ]
     },
     "execution_count": 2,
     "metadata": {},
     "output_type": "execute_result"
    }
   ],
   "source": [
    "df.shape"
   ]
  },
  {
   "cell_type": "code",
   "execution_count": 3,
   "id": "a51666b3",
   "metadata": {},
   "outputs": [],
   "source": [
    "df = df.sample(50000)\n",
    "df = df.reset_index(drop=True)"
   ]
  },
  {
   "cell_type": "code",
   "execution_count": 4,
   "id": "5a99eccd",
   "metadata": {},
   "outputs": [
    {
     "data": {
      "text/plain": [
       "1    25702\n",
       "0    24298\n",
       "Name: label, dtype: int64"
      ]
     },
     "execution_count": 4,
     "metadata": {},
     "output_type": "execute_result"
    }
   ],
   "source": [
    "df.label.value_counts()"
   ]
  },
  {
   "cell_type": "code",
   "execution_count": 5,
   "id": "ba564ad9",
   "metadata": {},
   "outputs": [],
   "source": [
    "df.drop(['text', 'Unnamed: 0'], axis=1, inplace=True)"
   ]
  },
  {
   "cell_type": "code",
   "execution_count": 6,
   "id": "dde5922b",
   "metadata": {},
   "outputs": [
    {
     "data": {
      "text/html": [
       "<div>\n",
       "<style scoped>\n",
       "    .dataframe tbody tr th:only-of-type {\n",
       "        vertical-align: middle;\n",
       "    }\n",
       "\n",
       "    .dataframe tbody tr th {\n",
       "        vertical-align: top;\n",
       "    }\n",
       "\n",
       "    .dataframe thead th {\n",
       "        text-align: right;\n",
       "    }\n",
       "</style>\n",
       "<table border=\"1\" class=\"dataframe\">\n",
       "  <thead>\n",
       "    <tr style=\"text-align: right;\">\n",
       "      <th></th>\n",
       "      <th>title</th>\n",
       "      <th>label</th>\n",
       "    </tr>\n",
       "  </thead>\n",
       "  <tbody>\n",
       "    <tr>\n",
       "      <th>49995</th>\n",
       "      <td>Kid Rock hints online he will run for U.S. Senate</td>\n",
       "      <td>0</td>\n",
       "    </tr>\n",
       "    <tr>\n",
       "      <th>49996</th>\n",
       "      <td>BREAKING: HOUSE Votes “Yes” On American Securi...</td>\n",
       "      <td>1</td>\n",
       "    </tr>\n",
       "    <tr>\n",
       "      <th>49997</th>\n",
       "      <td>Russian analysis shows western-backed terroris...</td>\n",
       "      <td>1</td>\n",
       "    </tr>\n",
       "    <tr>\n",
       "      <th>49998</th>\n",
       "      <td>RACIST LIBERAL REPORTER Arrested In Connection...</td>\n",
       "      <td>1</td>\n",
       "    </tr>\n",
       "    <tr>\n",
       "      <th>49999</th>\n",
       "      <td>Area Dad Informs Busboy He’s Ready To Order - ...</td>\n",
       "      <td>1</td>\n",
       "    </tr>\n",
       "  </tbody>\n",
       "</table>\n",
       "</div>"
      ],
      "text/plain": [
       "                                                   title  label\n",
       "49995  Kid Rock hints online he will run for U.S. Senate      0\n",
       "49996  BREAKING: HOUSE Votes “Yes” On American Securi...      1\n",
       "49997  Russian analysis shows western-backed terroris...      1\n",
       "49998  RACIST LIBERAL REPORTER Arrested In Connection...      1\n",
       "49999  Area Dad Informs Busboy He’s Ready To Order - ...      1"
      ]
     },
     "execution_count": 6,
     "metadata": {},
     "output_type": "execute_result"
    }
   ],
   "source": [
    "df.tail()"
   ]
  },
  {
   "cell_type": "code",
   "execution_count": 14,
   "id": "def81cf5",
   "metadata": {},
   "outputs": [],
   "source": [
    "import spacy\n",
    "nlp = spacy.load(\"C:/Python311/Lib/site-packages/en_core_web_lg/en_core_web_lg-3.5.0\")"
   ]
  },
  {
   "cell_type": "code",
   "execution_count": 17,
   "id": "6a449e85",
   "metadata": {},
   "outputs": [],
   "source": [
    "df['vector'] = df['title'].apply(lambda text: nlp(str(text)).vector)"
   ]
  },
  {
   "cell_type": "code",
   "execution_count": 20,
   "id": "b2361073",
   "metadata": {},
   "outputs": [
    {
     "data": {
      "text/html": [
       "<div>\n",
       "<style scoped>\n",
       "    .dataframe tbody tr th:only-of-type {\n",
       "        vertical-align: middle;\n",
       "    }\n",
       "\n",
       "    .dataframe tbody tr th {\n",
       "        vertical-align: top;\n",
       "    }\n",
       "\n",
       "    .dataframe thead th {\n",
       "        text-align: right;\n",
       "    }\n",
       "</style>\n",
       "<table border=\"1\" class=\"dataframe\">\n",
       "  <thead>\n",
       "    <tr style=\"text-align: right;\">\n",
       "      <th></th>\n",
       "      <th>title</th>\n",
       "      <th>label</th>\n",
       "      <th>vector</th>\n",
       "    </tr>\n",
       "  </thead>\n",
       "  <tbody>\n",
       "    <tr>\n",
       "      <th>0</th>\n",
       "      <td>Bill O’Reilly Sets Return with ’No Spin News’ ...</td>\n",
       "      <td>0</td>\n",
       "      <td>[0.17620276, -1.4139764, 3.0219228, -0.9061939...</td>\n",
       "    </tr>\n",
       "    <tr>\n",
       "      <th>1</th>\n",
       "      <td>How Clinton Campaign Gamed Super PAC Regulations</td>\n",
       "      <td>1</td>\n",
       "      <td>[-0.5956214, -0.46154287, -0.86808974, 1.77138...</td>\n",
       "    </tr>\n",
       "    <tr>\n",
       "      <th>2</th>\n",
       "      <td>Opposed from the start, the rocky history of N...</td>\n",
       "      <td>0</td>\n",
       "      <td>[-2.636486, -1.1986736, 0.298665, 0.6471771, 7...</td>\n",
       "    </tr>\n",
       "    <tr>\n",
       "      <th>3</th>\n",
       "      <td>North Korea calls for a halt to 'brutal' sanct...</td>\n",
       "      <td>0</td>\n",
       "      <td>[-0.25380728, 2.5123365, 0.19647375, 1.0413374...</td>\n",
       "    </tr>\n",
       "    <tr>\n",
       "      <th>4</th>\n",
       "      <td>Trump to speak with leaders of Russia, Germany...</td>\n",
       "      <td>0</td>\n",
       "      <td>[-2.7611842, 0.034197945, -0.8260793, 2.22033,...</td>\n",
       "    </tr>\n",
       "    <tr>\n",
       "      <th>...</th>\n",
       "      <td>...</td>\n",
       "      <td>...</td>\n",
       "      <td>...</td>\n",
       "    </tr>\n",
       "    <tr>\n",
       "      <th>49995</th>\n",
       "      <td>Kid Rock hints online he will run for U.S. Senate</td>\n",
       "      <td>0</td>\n",
       "      <td>[-1.415254, 2.280379, -1.383658, 0.789571, 2.3...</td>\n",
       "    </tr>\n",
       "    <tr>\n",
       "      <th>49996</th>\n",
       "      <td>BREAKING: HOUSE Votes “Yes” On American Securi...</td>\n",
       "      <td>1</td>\n",
       "      <td>[0.31557387, -0.2993775, -0.08687037, -0.05879...</td>\n",
       "    </tr>\n",
       "    <tr>\n",
       "      <th>49997</th>\n",
       "      <td>Russian analysis shows western-backed terroris...</td>\n",
       "      <td>1</td>\n",
       "      <td>[-2.5575242, -0.32569584, -2.114174, 2.1205568...</td>\n",
       "    </tr>\n",
       "    <tr>\n",
       "      <th>49998</th>\n",
       "      <td>RACIST LIBERAL REPORTER Arrested In Connection...</td>\n",
       "      <td>1</td>\n",
       "      <td>[0.30915013, -2.1061316, 1.8317485, -0.0374743...</td>\n",
       "    </tr>\n",
       "    <tr>\n",
       "      <th>49999</th>\n",
       "      <td>Area Dad Informs Busboy He’s Ready To Order - ...</td>\n",
       "      <td>1</td>\n",
       "      <td>[0.71107614, 0.76581526, 0.19062099, 0.8906739...</td>\n",
       "    </tr>\n",
       "  </tbody>\n",
       "</table>\n",
       "<p>50000 rows × 3 columns</p>\n",
       "</div>"
      ],
      "text/plain": [
       "                                                   title  label  \\\n",
       "0      Bill O’Reilly Sets Return with ’No Spin News’ ...      0   \n",
       "1       How Clinton Campaign Gamed Super PAC Regulations      1   \n",
       "2      Opposed from the start, the rocky history of N...      0   \n",
       "3      North Korea calls for a halt to 'brutal' sanct...      0   \n",
       "4      Trump to speak with leaders of Russia, Germany...      0   \n",
       "...                                                  ...    ...   \n",
       "49995  Kid Rock hints online he will run for U.S. Senate      0   \n",
       "49996  BREAKING: HOUSE Votes “Yes” On American Securi...      1   \n",
       "49997  Russian analysis shows western-backed terroris...      1   \n",
       "49998  RACIST LIBERAL REPORTER Arrested In Connection...      1   \n",
       "49999  Area Dad Informs Busboy He’s Ready To Order - ...      1   \n",
       "\n",
       "                                                  vector  \n",
       "0      [0.17620276, -1.4139764, 3.0219228, -0.9061939...  \n",
       "1      [-0.5956214, -0.46154287, -0.86808974, 1.77138...  \n",
       "2      [-2.636486, -1.1986736, 0.298665, 0.6471771, 7...  \n",
       "3      [-0.25380728, 2.5123365, 0.19647375, 1.0413374...  \n",
       "4      [-2.7611842, 0.034197945, -0.8260793, 2.22033,...  \n",
       "...                                                  ...  \n",
       "49995  [-1.415254, 2.280379, -1.383658, 0.789571, 2.3...  \n",
       "49996  [0.31557387, -0.2993775, -0.08687037, -0.05879...  \n",
       "49997  [-2.5575242, -0.32569584, -2.114174, 2.1205568...  \n",
       "49998  [0.30915013, -2.1061316, 1.8317485, -0.0374743...  \n",
       "49999  [0.71107614, 0.76581526, 0.19062099, 0.8906739...  \n",
       "\n",
       "[50000 rows x 3 columns]"
      ]
     },
     "execution_count": 20,
     "metadata": {},
     "output_type": "execute_result"
    }
   ],
   "source": [
    "df"
   ]
  },
  {
   "cell_type": "code",
   "execution_count": 22,
   "id": "c4276bc9",
   "metadata": {},
   "outputs": [
    {
     "data": {
      "text/plain": [
       "(300,)"
      ]
     },
     "execution_count": 22,
     "metadata": {},
     "output_type": "execute_result"
    }
   ],
   "source": [
    "df.vector[0].shape"
   ]
  },
  {
   "cell_type": "code",
   "execution_count": 25,
   "id": "9f7923b8",
   "metadata": {},
   "outputs": [],
   "source": [
    "from sklearn.model_selection import train_test_split\n",
    "X_train,X_test,y_train,y_test = train_test_split(df.vector.values, df.label, test_size=0.2, random_state=100)"
   ]
  },
  {
   "cell_type": "code",
   "execution_count": 26,
   "id": "f9ba3e28",
   "metadata": {},
   "outputs": [
    {
     "name": "stdout",
     "output_type": "stream",
     "text": [
      "(40000,)\n",
      "(10000,)\n"
     ]
    }
   ],
   "source": [
    "print(X_train.shape)\n",
    "print(X_test.shape)"
   ]
  },
  {
   "cell_type": "code",
   "execution_count": 28,
   "id": "d30edaed",
   "metadata": {},
   "outputs": [
    {
     "data": {
      "text/plain": [
       "array([[ 0.18795997, -0.72642744, -2.8503466 , ..., -0.5008309 ,\n",
       "        -1.9389362 , -0.348796  ],\n",
       "       [-1.6632813 , -2.0633893 ,  1.3748507 , ..., -2.7067983 ,\n",
       "         0.12365448,  0.6933477 ],\n",
       "       [-1.5525672 ,  0.23355706, -0.2804629 , ..., -3.5037427 ,\n",
       "        -0.86371   ,  0.7213043 ],\n",
       "       ...,\n",
       "       [ 1.0712537 ,  2.0026376 ,  0.03900153, ..., -2.0514636 ,\n",
       "        -3.5113702 ,  3.8850694 ],\n",
       "       [ 0.9224053 ,  3.1436272 ,  1.0704844 , ..., -0.57489085,\n",
       "        -1.3476293 ,  2.6314955 ],\n",
       "       [-0.3168118 ,  0.09268855,  0.17032267, ..., -0.7450201 ,\n",
       "        -1.2926195 ,  1.4981995 ]], dtype=float32)"
      ]
     },
     "execution_count": 28,
     "metadata": {},
     "output_type": "execute_result"
    }
   ],
   "source": [
    "## We need to change my X_train and X_test to 2d\n",
    "X_train_2d = np.stack(X_train)\n",
    "X_test_2d = np.stack(X_test)\n",
    "X_train_2d"
   ]
  },
  {
   "cell_type": "code",
   "execution_count": 30,
   "id": "83b8752f",
   "metadata": {},
   "outputs": [],
   "source": [
    "## we will do minmax scalar to remove -ve values \n",
    "from sklearn.preprocessing import MinMaxScaler\n",
    "sc = MinMaxScaler()\n",
    "scaled_train = sc.fit_transform(X_train_2d)\n",
    "scaled_test  = sc.transform(X_test_2d)"
   ]
  },
  {
   "cell_type": "code",
   "execution_count": 31,
   "id": "f4dc86df",
   "metadata": {},
   "outputs": [],
   "source": [
    "\n",
    "from sklearn.naive_bayes import MultinomialNB\n",
    "mnb = MultinomialNB()\n",
    "mnb.fit(scaled_train, y_train)\n",
    "y_pred = mnb.predict(scaled_test)"
   ]
  },
  {
   "cell_type": "code",
   "execution_count": 32,
   "id": "399a7bdc",
   "metadata": {},
   "outputs": [
    {
     "name": "stdout",
     "output_type": "stream",
     "text": [
      "              precision    recall  f1-score   support\n",
      "\n",
      "           0       0.84      0.80      0.82      4879\n",
      "           1       0.82      0.85      0.83      5121\n",
      "\n",
      "    accuracy                           0.83     10000\n",
      "   macro avg       0.83      0.83      0.83     10000\n",
      "weighted avg       0.83      0.83      0.83     10000\n",
      "\n"
     ]
    }
   ],
   "source": [
    "from sklearn.metrics import classification_report\n",
    "print(classification_report(y_test, y_pred))"
   ]
  },
  {
   "cell_type": "code",
   "execution_count": 42,
   "id": "9ad802ea",
   "metadata": {},
   "outputs": [],
   "source": [
    "from sklearn.neighbors import KNeighborsClassifier\n",
    "kn = KNeighborsClassifier(n_neighbors=10, metric='euclidean')\n",
    "kn.fit(scaled_train, y_train)\n",
    "y_pred = kn.predict(scaled_test)"
   ]
  },
  {
   "cell_type": "code",
   "execution_count": 43,
   "id": "76178e30",
   "metadata": {},
   "outputs": [
    {
     "name": "stdout",
     "output_type": "stream",
     "text": [
      "              precision    recall  f1-score   support\n",
      "\n",
      "           0       0.89      0.93      0.91      4879\n",
      "           1       0.93      0.90      0.91      5121\n",
      "\n",
      "    accuracy                           0.91     10000\n",
      "   macro avg       0.91      0.91      0.91     10000\n",
      "weighted avg       0.91      0.91      0.91     10000\n",
      "\n"
     ]
    }
   ],
   "source": [
    "# KNN really works well with low dimension/Dense representation\n",
    "print(classification_report(y_test, y_pred))"
   ]
  },
  {
   "cell_type": "code",
   "execution_count": 44,
   "id": "9a3b2809",
   "metadata": {},
   "outputs": [
    {
     "data": {
      "text/plain": [
       "4253     1\n",
       "30076    1\n",
       "48047    0\n",
       "1666     0\n",
       "30740    0\n",
       "Name: label, dtype: int64"
      ]
     },
     "execution_count": 44,
     "metadata": {},
     "output_type": "execute_result"
    }
   ],
   "source": [
    "y_test[:5]"
   ]
  },
  {
   "cell_type": "code",
   "execution_count": 45,
   "id": "364d88b4",
   "metadata": {},
   "outputs": [
    {
     "data": {
      "text/plain": [
       "array([1, 1, 0, 0, 0], dtype=int64)"
      ]
     },
     "execution_count": 45,
     "metadata": {},
     "output_type": "execute_result"
    }
   ],
   "source": [
    "y_pred[:5]"
   ]
  },
  {
   "cell_type": "code",
   "execution_count": 65,
   "id": "2c1ee694",
   "metadata": {},
   "outputs": [
    {
     "data": {
      "text/plain": [
       "\"North Korea calls for a halt to 'brutal' sanctions\""
      ]
     },
     "execution_count": 65,
     "metadata": {},
     "output_type": "execute_result"
    }
   ],
   "source": [
    "df.title[3]"
   ]
  },
  {
   "cell_type": "code",
   "execution_count": 109,
   "id": "6611ec0c",
   "metadata": {},
   "outputs": [],
   "source": [
    "text = nlp('''President Joe Biden unveiled a $2 trillion infrastructure plan that would rebuild roads, bridges and airports, invest in clean energy and create millions of jobs over the next eight years. The proposal includes investments in transportation, broadband, water systems, power grids and more''')\n",
    "new_test = text.vector\n"
   ]
  },
  {
   "cell_type": "code",
   "execution_count": 110,
   "id": "8d34b6e9",
   "metadata": {},
   "outputs": [],
   "source": [
    "new_t = np.stack(new_test)"
   ]
  },
  {
   "cell_type": "code",
   "execution_count": 112,
   "id": "eda513b0",
   "metadata": {},
   "outputs": [
    {
     "name": "stdout",
     "output_type": "stream",
     "text": [
      "Real\n"
     ]
    }
   ],
   "source": [
    "scaled = sc.transform([new_t])\n",
    "kn.predict(scaled)\n",
    "if result==0:\n",
    "    print(\"Real\")\n",
    "else:\n",
    "    print(\"Fake\")"
   ]
  },
  {
   "cell_type": "code",
   "execution_count": null,
   "id": "0e318f92",
   "metadata": {},
   "outputs": [],
   "source": []
  }
 ],
 "metadata": {
  "kernelspec": {
   "display_name": "Python 3 (ipykernel)",
   "language": "python",
   "name": "python3"
  },
  "language_info": {
   "codemirror_mode": {
    "name": "ipython",
    "version": 3
   },
   "file_extension": ".py",
   "mimetype": "text/x-python",
   "name": "python",
   "nbconvert_exporter": "python",
   "pygments_lexer": "ipython3",
   "version": "3.10.5"
  }
 },
 "nbformat": 4,
 "nbformat_minor": 5
}
