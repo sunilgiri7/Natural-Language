{
 "cells": [
  {
   "cell_type": "markdown",
   "id": "afa85f7c",
   "metadata": {},
   "source": [
    "## Develop LSTM model for univariate time series forecasting"
   ]
  },
  {
   "cell_type": "code",
   "execution_count": 26,
   "id": "16020a1f",
   "metadata": {},
   "outputs": [],
   "source": [
    "import numpy as np\n",
    "from tensorflow.keras.models import Sequential\n",
    "from tensorflow.keras.layers import LSTM, Dense, Flatten"
   ]
  },
  {
   "cell_type": "code",
   "execution_count": 16,
   "id": "fe0e80a7",
   "metadata": {},
   "outputs": [],
   "source": [
    "def preprocess_data(timeseries, n_features):\n",
    "    X, y = [], []\n",
    "    for i in range(len(timeseries)):\n",
    "        end_ix = i + n_features\n",
    "        if end_ix > len(timeseries)-1:\n",
    "            break\n",
    "        seq_x, seq_y = timeseries[i:end_ix], timeseries[end_ix]\n",
    "        X.append(seq_x)\n",
    "        y.append(seq_y)\n",
    "    return np.array(X), np.array(y)"
   ]
  },
  {
   "cell_type": "code",
   "execution_count": 17,
   "id": "070178bf",
   "metadata": {},
   "outputs": [],
   "source": [
    "timeseries_data = [110,125,133,146,158,172,187,196,210]\n",
    "n_steps = 3\n",
    "X, y = preprocess_data(timeseries_data, n_steps)"
   ]
  },
  {
   "cell_type": "code",
   "execution_count": 18,
   "id": "43007be9",
   "metadata": {},
   "outputs": [
    {
     "name": "stdout",
     "output_type": "stream",
     "text": [
      "[[110 125 133]\n",
      " [125 133 146]\n",
      " [133 146 158]\n",
      " [146 158 172]\n",
      " [158 172 187]\n",
      " [172 187 196]]\n",
      "[146 158 172 187 196 210]\n"
     ]
    }
   ],
   "source": [
    "print(X)\n",
    "print(y)"
   ]
  },
  {
   "cell_type": "code",
   "execution_count": 19,
   "id": "364cf66c",
   "metadata": {},
   "outputs": [
    {
     "data": {
      "text/plain": [
       "(6, 3)"
      ]
     },
     "execution_count": 19,
     "metadata": {},
     "output_type": "execute_result"
    }
   ],
   "source": [
    "X.shape"
   ]
  },
  {
   "cell_type": "code",
   "execution_count": 20,
   "id": "335ce6e0",
   "metadata": {},
   "outputs": [],
   "source": [
    "n_features = 1\n",
    "X = X.reshape((X.shape[0], X.shape[1], n_features))"
   ]
  },
  {
   "cell_type": "code",
   "execution_count": 21,
   "id": "e4bab162",
   "metadata": {},
   "outputs": [
    {
     "data": {
      "text/plain": [
       "(6, 3, 1)"
      ]
     },
     "execution_count": 21,
     "metadata": {},
     "output_type": "execute_result"
    }
   ],
   "source": [
    "X.shape"
   ]
  },
  {
   "cell_type": "markdown",
   "id": "1b5779e2",
   "metadata": {},
   "source": [
    "## Budilding LSTM model"
   ]
  },
  {
   "cell_type": "code",
   "execution_count": 23,
   "id": "f5bb8c46",
   "metadata": {},
   "outputs": [
    {
     "data": {
      "text/plain": [
       "<keras.callbacks.History at 0x16cebb134f0>"
      ]
     },
     "execution_count": 23,
     "metadata": {},
     "output_type": "execute_result"
    }
   ],
   "source": [
    "model = Sequential()\n",
    "model.add(LSTM(50, activation='relu', return_sequences=True, input_shape=(n_steps, n_features)))\n",
    "model.add(LSTM(50, activation='relu'))\n",
    "model.add(Dense(1))\n",
    "model.compile(optimizer='adam', loss='mse')\n",
    "model.fit(X, y, epochs=500, verbose=0)"
   ]
  },
  {
   "cell_type": "code",
   "execution_count": 30,
   "id": "1649f8b6",
   "metadata": {},
   "outputs": [
    {
     "name": "stdout",
     "output_type": "stream",
     "text": [
      "1 day output is [196.         210.         221.00543213]\n",
      "1 day output is [[230.95753]]\n",
      "[196, 210, 221.00543, 230.95753] is temp input\n",
      "2 day output is [210.         221.00543213 230.95753479]\n",
      "2 day output is [[243.54779]]\n",
      "[210, 221.00543, 230.95753, 243.54779] is temp input\n",
      "3 day output is [221.00543 230.95753 243.54779]\n",
      "3 day output is [[253.56456]]\n",
      "[221.00543, 230.95753, 243.54779, 253.56456] is temp input\n",
      "4 day output is [230.95753 243.54779 253.56456]\n",
      "4 day output is [[264.49133]]\n",
      "[230.95753, 243.54779, 253.56456, 264.49133] is temp input\n",
      "5 day output is [243.54779 253.56456 264.49133]\n",
      "5 day output is [[276.09082]]\n",
      "[243.54779, 253.56456, 264.49133, 276.09082] is temp input\n",
      "6 day output is [253.56456 264.49133 276.09082]\n",
      "6 day output is [[286.4964]]\n",
      "[253.56456, 264.49133, 276.09082, 286.4964] is temp input\n",
      "7 day output is [264.49133 276.09082 286.4964 ]\n",
      "7 day output is [[297.93393]]\n",
      "[264.49133, 276.09082, 286.4964, 297.93393] is temp input\n",
      "8 day output is [276.09082 286.4964  297.93393]\n",
      "8 day output is [[309.33023]]\n",
      "[276.09082, 286.4964, 297.93393, 309.33023] is temp input\n",
      "9 day output is [286.4964  297.93393 309.33023]\n",
      "9 day output is [[320.48642]]\n",
      "[286.4964, 297.93393, 309.33023, 320.48642] is temp input\n",
      "[221.00543, 230.95753, 243.54779, 253.56456, 264.49133, 276.09082, 286.4964, 297.93393, 309.33023, 320.48642]\n"
     ]
    }
   ],
   "source": [
    "# Demonstrate prediction for next 10 days \n",
    "x_input = np.array([187,196,210])\n",
    "temp_input = list(x_input)\n",
    "lst_output = []\n",
    "i=0\n",
    "while(i<10):\n",
    "    if(len(temp_input) > 3):\n",
    "        x_input = np.array(temp_input[1:])\n",
    "        print(\"{} day output is {}\".format(i, x_input))\n",
    "        x_input = x_input.reshape(1, n_steps, n_features)\n",
    "        yhat = model.predict(x_input, verbose=0)\n",
    "        print(\"{} day output is {}\".format(i,yhat))\n",
    "        temp_input.append(yhat[0][0])\n",
    "        temp_input = temp_input[1:]\n",
    "        print(\"{} is temp input\".format(temp_input))\n",
    "        lst_output.append(yhat[0][0])\n",
    "        i = i+1\n",
    "    else:\n",
    "        x_input = x_input.reshape(1, n_steps, n_features)\n",
    "        yhat = model.predict(x_input, verbose=0)\n",
    "        temp_input.append(yhat[0][0])\n",
    "        lst_output.append(yhat[0][0])\n",
    "        i += 1\n",
    "print(lst_output)"
   ]
  },
  {
   "cell_type": "code",
   "execution_count": 35,
   "id": "d1d03e48",
   "metadata": {},
   "outputs": [
    {
     "data": {
      "text/plain": [
       "array([[[187],\n",
       "        [196],\n",
       "        [210]]])"
      ]
     },
     "execution_count": 35,
     "metadata": {},
     "output_type": "execute_result"
    }
   ],
   "source": [
    "x_input = np.array([187,196,210])\n",
    "x_input.reshape(1, n_steps, n_features)"
   ]
  },
  {
   "cell_type": "markdown",
   "id": "90126ae7",
   "metadata": {},
   "source": [
    "## Visualizing the output"
   ]
  },
  {
   "cell_type": "code",
   "execution_count": 36,
   "id": "cd301194",
   "metadata": {},
   "outputs": [],
   "source": [
    "import matplotlib.pyplot as plt\n",
    "day_new = np.arange(1,10)\n",
    "day_pred = np.arange(10,20)"
   ]
  },
  {
   "cell_type": "code",
   "execution_count": 37,
   "id": "6551c13f",
   "metadata": {},
   "outputs": [
    {
     "data": {
      "text/plain": [
       "[110, 125, 133, 146, 158, 172, 187, 196, 210]"
      ]
     },
     "execution_count": 37,
     "metadata": {},
     "output_type": "execute_result"
    }
   ],
   "source": [
    "timeseries_data"
   ]
  },
  {
   "cell_type": "code",
   "execution_count": 38,
   "id": "ca5354bc",
   "metadata": {},
   "outputs": [
    {
     "data": {
      "text/plain": [
       "[221.00543,\n",
       " 230.95753,\n",
       " 243.54779,\n",
       " 253.56456,\n",
       " 264.49133,\n",
       " 276.09082,\n",
       " 286.4964,\n",
       " 297.93393,\n",
       " 309.33023,\n",
       " 320.48642]"
      ]
     },
     "execution_count": 38,
     "metadata": {},
     "output_type": "execute_result"
    }
   ],
   "source": [
    "lst_output"
   ]
  },
  {
   "cell_type": "code",
   "execution_count": 39,
   "id": "a5aecade",
   "metadata": {},
   "outputs": [
    {
     "data": {
      "text/plain": [
       "[<matplotlib.lines.Line2D at 0x16cf1739900>]"
      ]
     },
     "execution_count": 39,
     "metadata": {},
     "output_type": "execute_result"
    },
    {
     "data": {
      "image/png": "[encoded data removed]",
      "text/plain": [
       "<Figure size 640x480 with 1 Axes>"
      ]
     },
     "metadata": {},
     "output_type": "display_data"
    }
   ],
   "source": [
    "plt.plot(day_new, timeseries_data)\n",
    "plt.plot(day_pred, lst_output)"
   ]
  },
  {
   "cell_type": "code",
   "execution_count": null,
   "id": "e34fcb86",
   "metadata": {},
   "outputs": [],
   "source": []
  },
  {
   "cell_type": "code",
   "execution_count": null,
   "id": "96a21d15",
   "metadata": {},
   "outputs": [],
   "source": []
  },
  {
   "cell_type": "code",
   "execution_count": null,
   "id": "a2624db2",
   "metadata": {},
   "outputs": [],
   "source": []
  },
  {
   "cell_type": "code",
   "execution_count": null,
   "id": "c3105704",
   "metadata": {},
   "outputs": [],
   "source": []
  },
  {
   "cell_type": "code",
   "execution_count": null,
   "id": "f7cecc50",
   "metadata": {},
   "outputs": [],
   "source": []
  },
  {
   "cell_type": "code",
   "execution_count": null,
   "id": "b1584b68",
   "metadata": {},
   "outputs": [],
   "source": []
  },
  {
   "cell_type": "code",
   "execution_count": null,
   "id": "5882f3d1",
   "metadata": {},
   "outputs": [],
   "source": []
  },
  {
   "cell_type": "code",
   "execution_count": null,
   "id": "c20915a5",
   "metadata": {},
   "outputs": [],
   "source": []
  }
 ],
 "metadata": {
  "kernelspec": {
   "display_name": "Python 3 (ipykernel)",
   "language": "python",
   "name": "python3"
  },
  "language_info": {
   "codemirror_mode": {
    "name": "ipython",
    "version": 3
   },
   "file_extension": ".py",
   "mimetype": "text/x-python",
   "name": "python",
   "nbconvert_exporter": "python",
   "pygments_lexer": "ipython3",
   "version": "3.10.9"
  }
 },
 "nbformat": 4,
 "nbformat_minor": 5
}
