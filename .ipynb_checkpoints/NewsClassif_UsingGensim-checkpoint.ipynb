{
 "cells": [
  {
   "cell_type": "code",
   "execution_count": 1,
   "id": "9d48f207",
   "metadata": {},
   "outputs": [],
   "source": [
    "import gensim.downloader as api"
   ]
  },
  {
   "cell_type": "code",
   "execution_count": 2,
   "id": "0e795913",
   "metadata": {},
   "outputs": [],
   "source": [
    "model = api.load('word2vec-google-news-300')"
   ]
  },
  {
   "cell_type": "code",
   "execution_count": 3,
   "id": "65d60705",
   "metadata": {},
   "outputs": [
    {
     "data": {
      "text/plain": [
       "0.027614867"
      ]
     },
     "execution_count": 3,
     "metadata": {},
     "output_type": "execute_result"
    }
   ],
   "source": [
    "model.similarity(w1='good', w2='mobile')"
   ]
  },
  {
   "cell_type": "code",
   "execution_count": 4,
   "id": "89290f6b",
   "metadata": {},
   "outputs": [
    {
     "data": {
      "text/plain": [
       "[('great', 0.7291510105133057),\n",
       " ('bad', 0.7190051078796387),\n",
       " ('terrific', 0.6889115571975708),\n",
       " ('decent', 0.6837348341941833),\n",
       " ('nice', 0.6836092472076416),\n",
       " ('excellent', 0.644292950630188),\n",
       " ('fantastic', 0.6407778263092041),\n",
       " ('better', 0.6120728850364685),\n",
       " ('solid', 0.5806034803390503),\n",
       " ('lousy', 0.576420247554779)]"
      ]
     },
     "execution_count": 4,
     "metadata": {},
     "output_type": "execute_result"
    }
   ],
   "source": [
    "model.most_similar('good')"
   ]
  },
  {
   "cell_type": "code",
   "execution_count": 5,
   "id": "70b78c42",
   "metadata": {},
   "outputs": [
    {
     "data": {
      "text/plain": [
       "[('queen', 0.6525818109512329),\n",
       " ('monarch', 0.5959680676460266),\n",
       " ('crown_prince', 0.5324338674545288),\n",
       " ('kings', 0.5282072424888611),\n",
       " ('princess', 0.5240627527236938),\n",
       " ('sultan', 0.4983791410923004),\n",
       " ('monarchy', 0.49648746848106384),\n",
       " ('ruler', 0.49376848340034485),\n",
       " ('prince', 0.48910900950431824),\n",
       " ('Prince_Paras', 0.4794894754886627)]"
      ]
     },
     "execution_count": 5,
     "metadata": {},
     "output_type": "execute_result"
    }
   ],
   "source": [
    "# King - man + women = queen\n",
    "model.most_similar(positive=['king','women'], negative=['men'])"
   ]
  },
  {
   "cell_type": "code",
   "execution_count": 6,
   "id": "d1da7f8e",
   "metadata": {},
   "outputs": [
    {
     "data": {
      "text/plain": [
       "'cat'"
      ]
     },
     "execution_count": 6,
     "metadata": {},
     "output_type": "execute_result"
    }
   ],
   "source": [
    "model.doesnt_match(['facebook', 'twitter', 'cat', 'google'])"
   ]
  },
  {
   "cell_type": "code",
   "execution_count": 18,
   "id": "9a74390e",
   "metadata": {},
   "outputs": [
    {
     "data": {
      "text/plain": [
       "(300,)"
      ]
     },
     "execution_count": 18,
     "metadata": {},
     "output_type": "execute_result"
    }
   ],
   "source": [
    "## mean vector actually gives mean of vectors of given text or number\n",
    "model.get_mean_vector(['hello how are you'], pre_normalize=False).shape"
   ]
  },
  {
   "cell_type": "code",
   "execution_count": 15,
   "id": "77956300",
   "metadata": {},
   "outputs": [],
   "source": [
    "## this is for remove stopwords and put get_mean_vector\n",
    "import spacy\n",
    "nlp = spacy.load(\"en_core_web_sm\")\n",
    "\n",
    "def preprocess_stopword(text):\n",
    "    doc = nlp(text)\n",
    "    filtered_test = []\n",
    "    \n",
    "    for token in doc:\n",
    "        if token.is_punct or token.is_stop:\n",
    "            continue\n",
    "        filtered_test.append(token.lemma_)\n",
    "    return model.get_mean_vector(filtered_test)"
   ]
  },
  {
   "cell_type": "code",
   "execution_count": 17,
   "id": "648814b8",
   "metadata": {},
   "outputs": [
    {
     "data": {
      "text/plain": [
       "(300,)"
      ]
     },
     "execution_count": 17,
     "metadata": {},
     "output_type": "execute_result"
    }
   ],
   "source": [
    "preprocess_stopword('hello all i am sunil giri').shape"
   ]
  },
  {
   "cell_type": "markdown",
   "id": "cfd29d6f",
   "metadata": {},
   "source": [
    "#  Now we do News classification"
   ]
  },
  {
   "cell_type": "code",
   "execution_count": 6,
   "id": "0f4d6a78",
   "metadata": {},
   "outputs": [
    {
     "ename": "ModuleNotFoundError",
     "evalue": "No module named 'pandas'",
     "output_type": "error",
     "traceback": [
      "\u001b[1;31m---------------------------------------------------------------------------\u001b[0m",
      "\u001b[1;31mModuleNotFoundError\u001b[0m                       Traceback (most recent call last)",
      "Cell \u001b[1;32mIn[6], line 1\u001b[0m\n\u001b[1;32m----> 1\u001b[0m \u001b[38;5;28;01mimport\u001b[39;00m \u001b[38;5;21;01mpandas\u001b[39;00m \u001b[38;5;28;01mas\u001b[39;00m \u001b[38;5;21;01mpd\u001b[39;00m\n\u001b[0;32m      2\u001b[0m \u001b[38;5;28;01mimport\u001b[39;00m \u001b[38;5;21;01mnumpy\u001b[39;00m \u001b[38;5;28;01mas\u001b[39;00m \u001b[38;5;21;01mnp\u001b[39;00m\n\u001b[0;32m      3\u001b[0m df \u001b[38;5;241m=\u001b[39m pd\u001b[38;5;241m.\u001b[39mread_csv(\u001b[38;5;124m'\u001b[39m\u001b[38;5;124mRealOrFakeNews.csv\u001b[39m\u001b[38;5;124m'\u001b[39m)\n",
      "\u001b[1;31mModuleNotFoundError\u001b[0m: No module named 'pandas'"
     ]
    }
   ],
   "source": [
    "import pandas as pd\n",
    "import numpy as np\n",
    "df = pd.read_csv('RealOrFakeNews.csv')\n",
    "df.head(10)"
   ]
  },
  {
   "cell_type": "code",
   "execution_count": null,
   "id": "2b44f2e0",
   "metadata": {},
   "outputs": [],
   "source": [
    "## this is for convert text into vector according to similarity\n",
    "def preprocessing_gensim(text, doc):\n",
    "    for token in doc:\n",
    "        return model.similarity(w1=text, w2=token)"
   ]
  },
  {
   "cell_type": "code",
   "execution_count": null,
   "id": "029c3601",
   "metadata": {},
   "outputs": [],
   "source": [
    "preprocessing_gensim(('bear', 'leopard', 'mobile'), ('lion', 'tiger','snake'))"
   ]
  },
  {
   "cell_type": "code",
   "execution_count": null,
   "id": "38a39cee",
   "metadata": {},
   "outputs": [],
   "source": []
  }
 ],
 "metadata": {
  "kernelspec": {
   "display_name": "myenv",
   "language": "python",
   "name": "myenv"
  },
  "language_info": {
   "codemirror_mode": {
    "name": "ipython",
    "version": 3
   },
   "file_extension": ".py",
   "mimetype": "text/x-python",
   "name": "python",
   "nbconvert_exporter": "python",
   "pygments_lexer": "ipython3",
   "version": "3.11.2"
  }
 },
 "nbformat": 4,
 "nbformat_minor": 5
}
