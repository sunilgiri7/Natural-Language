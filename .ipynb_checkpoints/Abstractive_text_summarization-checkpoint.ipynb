{
 "cells": [
  {
   "cell_type": "markdown",
   "metadata": {
    "id": "oWOVLUAGmDXR"
   },
   "source": [
    "Install modules"
   ]
  },
  {
   "cell_type": "code",
   "execution_count": null,
   "metadata": {
    "id": "zZ6jPwyamICN"
   },
   "outputs": [],
   "source": [
    "# !pip install torch\n",
    "# !pip install transformers"
   ]
  },
  {
   "cell_type": "markdown",
   "metadata": {
    "id": "B2COyRslmYya"
   },
   "source": [
    "Import modules"
   ]
  },
  {
   "cell_type": "code",
   "execution_count": 4,
   "metadata": {
    "executionInfo": {
     "elapsed": 57,
     "status": "ok",
     "timestamp": 1679480681429,
     "user": {
      "displayName": "Sunil Giri",
      "userId": "10833941775082454299"
     },
     "user_tz": 420
    },
    "id": "N80GiqnWmbLV"
   },
   "outputs": [],
   "source": [
    "import torch\n",
    "from transformers import T5Tokenizer, T5ForConditionalGeneration, T5Config"
   ]
  },
  {
   "cell_type": "code",
   "execution_count": 52,
   "metadata": {
    "executionInfo": {
     "elapsed": 2998,
     "status": "ok",
     "timestamp": 1679482842596,
     "user": {
      "displayName": "Sunil Giri",
      "userId": "10833941775082454299"
     },
     "user_tz": 420
    },
    "id": "IIwY_hrkmzeA"
   },
   "outputs": [],
   "source": [
    "## Initializing the pretrained models\n",
    "model = T5ForConditionalGeneration.from_pretrained('t5-small')\n",
    "tokenizer = T5Tokenizer.from_pretrained('t5-small')\n",
    "device = torch.device('cpu')"
   ]
  },
  {
   "cell_type": "code",
   "execution_count": 58,
   "metadata": {
    "executionInfo": {
     "elapsed": 511,
     "status": "ok",
     "timestamp": 1679482996952,
     "user": {
      "displayName": "Sunil Giri",
      "userId": "10833941775082454299"
     },
     "user_tz": 420
    },
    "id": "hTNfPKnO25CC"
   },
   "outputs": [],
   "source": [
    "text = '''Machine learning programs can perform tasks without being explicitly programmed to do so. It involves computers learning from data provided so that they carry out certain tasks. For simple tasks assigned to computers, \n",
    "it is possible to program algorithms telling the machine how to execute all steps required to solve the problem at hand; on the computer's part, no learning is needed. For more advanced tasks, it can be challenging for a human to manually create the needed algorithms\n",
    "Machine learning is a branch of artificial intelligence (AI) and computer science which focuses on the use of data and algorithms to imitate the way that humans learn, gradually improving its accuracy.\n",
    "\n",
    "IBM has a rich history with machine learning. One of its own, Arthur Samuel, is credited for coining the term, “machine learning” with his research (PDF, 481 KB) (link resides outside IBM) around the game of checkers. Robert Nealey, the self-proclaimed checkers master, played the game on an IBM 7094 computer in 1962, and he lost to the computer. Compared to what can be done today, this feat seems trivial, but it’s considered a major milestone in the field of artificial intelligence.\n",
    "'''"
   ]
  },
  {
   "cell_type": "code",
   "execution_count": 59,
   "metadata": {
    "executionInfo": {
     "elapsed": 5,
     "status": "ok",
     "timestamp": 1679482998925,
     "user": {
      "displayName": "Sunil Giri",
      "userId": "10833941775082454299"
     },
     "user_tz": 420
    },
    "id": "NmaH-oMI3-jw"
   },
   "outputs": [],
   "source": [
    "## Preprocess\n",
    "preprocessed_text = text.strip().replace('\\n', '')\n",
    "t5_input_text = 'summarize:' + preprocessed_text"
   ]
  },
  {
   "cell_type": "code",
   "execution_count": 60,
   "metadata": {
    "colab": {
     "base_uri": "https://localhost:8080/"
    },
    "executionInfo": {
     "elapsed": 6,
     "status": "ok",
     "timestamp": 1679483000240,
     "user": {
      "displayName": "Sunil Giri",
      "userId": "10833941775082454299"
     },
     "user_tz": 420
    },
    "id": "LAa4obKS4n6x",
    "outputId": "34893405-1521-4fb5-af71-c0a977b9b3e0"
   },
   "outputs": [
    {
     "data": {
      "text/plain": [
       "1183"
      ]
     },
     "execution_count": 60,
     "metadata": {},
     "output_type": "execute_result"
    }
   ],
   "source": [
    "len(t5_input_text)"
   ]
  },
  {
   "cell_type": "code",
   "execution_count": 62,
   "metadata": {
    "executionInfo": {
     "elapsed": 611,
     "status": "ok",
     "timestamp": 1679483050199,
     "user": {
      "displayName": "Sunil Giri",
      "userId": "10833941775082454299"
     },
     "user_tz": 420
    },
    "id": "rZSpMC127ljK"
   },
   "outputs": [],
   "source": [
    "tokenized_text = tokenizer.encode(t5_input_text, return_tensors='pt', max_length=1183, truncation=True).to(device)"
   ]
  },
  {
   "cell_type": "markdown",
   "metadata": {
    "id": "2H7yKAt823vs"
   },
   "source": [
    "Summarize"
   ]
  },
  {
   "cell_type": "code",
   "execution_count": 68,
   "metadata": {
    "executionInfo": {
     "elapsed": 2441,
     "status": "ok",
     "timestamp": 1679483909580,
     "user": {
      "displayName": "Sunil Giri",
      "userId": "10833941775082454299"
     },
     "user_tz": 420
    },
    "id": "FynUFu09_hv6"
   },
   "outputs": [],
   "source": [
    "min_length=30 \n",
    "max_length=120\n",
    "summary_id = model.generate(tokenized_text, min_length = min_length, max_length = max_length)\n",
    "summary = tokenizer.decode(summary_id[0], skip_special_tokens=True)"
   ]
  },
  {
   "cell_type": "code",
   "execution_count": 69,
   "metadata": {
    "colab": {
     "base_uri": "https://localhost:8080/",
     "height": 52
    },
    "executionInfo": {
     "elapsed": 744,
     "status": "ok",
     "timestamp": 1679483913902,
     "user": {
      "displayName": "Sunil Giri",
      "userId": "10833941775082454299"
     },
     "user_tz": 420
    },
    "id": "dvKmOYZ2_87e",
    "outputId": "ba997710-6906-4fe4-9357-d55782390224"
   },
   "outputs": [
    {
     "data": {
      "application/vnd.google.colaboratory.intrinsic+json": {
       "type": "string"
      },
      "text/plain": [
       "'machine learning is a branch of artificial intelligence and computer science. it focuses on the use of data and algorithms to imitate the way that humans learn. it involves computers learning from data provided so that they carry out certain tasks.'"
      ]
     },
     "execution_count": 69,
     "metadata": {},
     "output_type": "execute_result"
    }
   ],
   "source": [
    "summary"
   ]
  }
 ],
 "metadata": {
  "colab": {
   "authorship_tag": "ABX9TyMSDtz8pI4CllOgNjtIvMd3",
   "mount_file_id": "1qZAzw_ZpwQVixR2ZslM2HSiWbcZhCm51",
   "provenance": []
  },
  "kernelspec": {
   "display_name": "Python 3 (ipykernel)",
   "language": "python",
   "name": "python3"
  },
  "language_info": {
   "codemirror_mode": {
    "name": "ipython",
    "version": 3
   },
   "file_extension": ".py",
   "mimetype": "text/x-python",
   "name": "python",
   "nbconvert_exporter": "python",
   "pygments_lexer": "ipython3",
   "version": "3.10.9"
  }
 },
 "nbformat": 4,
 "nbformat_minor": 1
}
